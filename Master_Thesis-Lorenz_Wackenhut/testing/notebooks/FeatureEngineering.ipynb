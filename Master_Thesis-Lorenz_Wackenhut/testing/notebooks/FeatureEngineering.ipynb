{
    "cells": [
        {
            "cell_type": "code",
            "execution_count": 1,
            "metadata": {},
            "outputs": [],
            "source": [
                "import pyspark\n",
                "from pyspark.sql.types import *\n",
                "from pyspark import SparkContext\n",
                "from pyspark.sql import SparkSession\n",
                "from pyspark.sql import SQLContext\n",
                "from pyspark.sql.window import Window\n",
                "import pyspark.sql.functions as F\n",
                "from math import radians, cos, sin, asin, sqrt\n",
                "from datetime import datetime\n",
                "import pytz"
            ]
        },
        {
            "cell_type": "code",
            "execution_count": 2,
            "metadata": {},
            "outputs": [],
            "source": [
                "account_name = \"REDACTED\"\n",
                "account_key = \"REDACTED\"\n",
                "\n",
                "spark = (\n",
                "    SparkSession\n",
                "        .builder\n",
                "        .master('local[*]')\n",
                "        .appName(\"Ingestion\")\n",
                "        .config(\"spark.driver.memory\", \"4g\")\n",
                "        .config(\"fs.azure.account.auth.type.\" + account_name + \".dfs.core.windows.net\", \"SharedKey\")\n",
                "        .config(\"fs.azure.account.key.\" + account_name + \".dfs.core.windows.net\", account_key)\n",
                "        .getOrCreate()\n",
                ")\n",
                "\n",
                "sc = spark.sparkContext"
            ]
        },
        {
            "cell_type": "code",
            "execution_count": 3,
            "metadata": {},
            "outputs": [],
            "source": [
                "container_name = 'data'\n",
                "path_to_table = '/extraction/'\n",
                "\n",
                "def getDataframeFromAdls(spark_session, container_name, path_to_table, table_name):\n",
                "    return spark_session.read.parquet(f\"abfss://{container_name}@REDACTED.dfs.core.windows.net{path_to_table}{table_name}\")"
            ]
        },
        {
            "cell_type": "code",
            "execution_count": 4,
            "metadata": {},
            "outputs": [],
            "source": [
                "df_extract = getDataframeFromAdls(spark, container_name, path_to_table, 'df_extract')"
            ]
        },
        {
            "cell_type": "code",
            "execution_count": 5,
            "metadata": {},
            "outputs": [],
            "source": [
                "window_spec  = Window.partitionBy(\"ID_FILE\").orderBy(['ID_FILE', 'ID_STATE'])"
            ]
        },
        {
            "cell_type": "code",
            "execution_count": 6,
            "metadata": {},
            "outputs": [],
            "source": [
                "def getWindowConditionLagGps(window_spec):\n",
                "    return (\n",
                "    (F.col('STIME_SEC') - F.lag(F.col('STIME_SEC')).over(window_spec)).between(0, 900) &\n",
                "    (F.col('STIME_SEC') - F.col('LTIME_SEC')).between(0, 180) &\n",
                "    ((F.lag(F.col('STIME_SEC'))).over(window_spec) -\n",
                "        F.lag(F.col('LTIME_SEC')).over(window_spec))\n",
                "    .between(0, 180)\n",
                "    )\n",
                "\n",
                "def getWindowConditionLeadGps(window_spec):\n",
                "    return (\n",
                "    (F.lead(F.col('STIME_SEC')).over(window_spec) - F.col('STIME_SEC')).between(0, 960) &\n",
                "    (F.col('STIME_SEC') - F.col('LTIME_SEC')).between(0, 180) &\n",
                "    ((F.lead(F.col('STIME_SEC'))).over(window_spec) -\n",
                "        F.lead(F.col('LTIME_SEC')).over(window_spec))\n",
                "    .between(0, 180)\n",
                "    )\n",
                "\n",
                "def getWindowConditionLagGpsActivity(window_spec):\n",
                "    return (\n",
                "    (F.col('STIME_SEC') - F.lag(F.col('STIME_SEC')).over(window_spec)) < 900\n",
                "    )\n",
                "\n",
                "def getWindowConditionLeadGpsActivity(window_spec):\n",
                "    return (\n",
                "    (F.lead(F.col('STIME_SEC')).over(window_spec) - F.col('STIME_SEC')) < 900\n",
                "    )\n",
                "\n",
                "def getWindowResultGpsSpeed(window_spec, lag_or_lead):\n",
                "    lagOrLead = lag_or_lead\n",
                "    return (\n",
                "    lagOrLead(F.col('SPEED')).over(window_spec)\n",
                "    )\n",
                "\n",
                "def getWindowResultGpsActivity(window_spec, lag_or_lead):\n",
                "    lagOrLead = lag_or_lead\n",
                "    return (\n",
                "    lagOrLead(F.col('ACTIVITY_STATE')).over(window_spec)\n",
                "    )\n",
                "\n",
                "def getWindowResultLagGpsTime(window_spec):\n",
                "    return (\n",
                "    F.col('LTIME_SEC') - F.lag(F.col('LTIME_SEC')).over(window_spec)\n",
                "    )\n",
                "\n",
                "def getWindowResultLeadGpsTime(window_spec):\n",
                "    return (\n",
                "    F.lead(F.col('LTIME_SEC')).over(window_spec) - F.col('LTIME_SEC')\n",
                "    )\n",
                "\n",
                "def getWindowResultLagGpsGeo(window_spec, lat_or_lon):\n",
                "    return (\n",
                "    F.lag(F.col(lat_or_lon)).over(window_spec)\n",
                "    )\n"
            ]
        },
        {
            "cell_type": "code",
            "execution_count": 7,
            "metadata": {},
            "outputs": [],
            "source": [
                "def getLagOrLeadGps(df, lag_or_lead, speed_time_activity_geo, window_spec):\n",
                "    name = f'{lag_or_lead}_{speed_time_activity_geo}'\n",
                "    if lag_or_lead == 'LAG':\n",
                "        condition = getWindowConditionLagGps(window_spec)\n",
                "        if speed_time_activity_geo == 'LTIME':\n",
                "            result = getWindowResultLagGpsTime(window_spec)\n",
                "        elif speed_time_activity_geo == 'SPEED':\n",
                "            result = getWindowResultGpsSpeed(window_spec, F.lag)\n",
                "        elif speed_time_activity_geo == 'ACTIVITY':\n",
                "            condition = getWindowConditionLagGpsActivity(window_spec)\n",
                "            result = getWindowResultGpsActivity(window_spec, F.lag)\n",
                "        elif speed_time_activity_geo == 'LAT':\n",
                "            result = getWindowResultLagGpsGeo(window_spec, 'LAT')\n",
                "        elif speed_time_activity_geo == 'LON':\n",
                "            result = getWindowResultLagGpsGeo(window_spec, 'LON')\n",
                "            \n",
                "    elif lag_or_lead == 'LEAD':\n",
                "        condition = getWindowConditionLeadGps(window_spec)\n",
                "        if speed_time_activity_geo == 'LTIME':\n",
                "            result = getWindowResultLeadGpsTime(window_spec)\n",
                "        elif speed_time_activity_geo == 'SPEED':\n",
                "            result = getWindowResultGpsSpeed(window_spec, F.lead)\n",
                "        elif speed_time_activity_geo == 'ACTIVITY':\n",
                "            condition = getWindowConditionLeadGpsActivity(window_spec)\n",
                "            result = getWindowResultGpsActivity(window_spec, F.lead)\n",
                "        \n",
                "    return (\n",
                "    df.withColumn(name,\n",
                "        F.when(condition, result)\n",
                "            .otherwise(F.lit(None))\n",
                "        ).cache()\n",
                "    ) "
            ]
        },
        {
            "cell_type": "code",
            "execution_count": 8,
            "metadata": {},
            "outputs": [],
            "source": [
                "df_lag_speed = getLagOrLeadGps(df_extract, 'LAG', 'SPEED', window_spec)"
            ]
        },
        {
            "cell_type": "code",
            "execution_count": 9,
            "metadata": {},
            "outputs": [],
            "source": [
                "df_lead_speed = getLagOrLeadGps(df_lag_speed, 'LEAD', 'SPEED', window_spec)"
            ]
        },
        {
            "cell_type": "code",
            "execution_count": 10,
            "metadata": {},
            "outputs": [],
            "source": [
                "df_lag_time = getLagOrLeadGps(df_lead_speed, 'LAG', 'LTIME', window_spec)"
            ]
        },
        {
            "cell_type": "code",
            "execution_count": 11,
            "metadata": {},
            "outputs": [],
            "source": [
                "df_lead_time = getLagOrLeadGps(df_lag_time, 'LEAD', 'LTIME', window_spec)"
            ]
        },
        {
            "cell_type": "code",
            "execution_count": 12,
            "metadata": {},
            "outputs": [],
            "source": [
                "df_lag_activity = getLagOrLeadGps(df_lead_time, 'LAG', 'ACTIVITY', window_spec)"
            ]
        },
        {
            "cell_type": "code",
            "execution_count": 13,
            "metadata": {},
            "outputs": [],
            "source": [
                "df_lead_activity = getLagOrLeadGps(df_lag_activity, 'LEAD', 'ACTIVITY', window_spec)"
            ]
        },
        {
            "cell_type": "code",
            "execution_count": 14,
            "metadata": {},
            "outputs": [],
            "source": [
                "df_lag_lat = getLagOrLeadGps(df_lead_activity, 'LAG', 'LAT', window_spec)"
            ]
        },
        {
            "cell_type": "code",
            "execution_count": 15,
            "metadata": {},
            "outputs": [],
            "source": [
                "df_lag_lon = getLagOrLeadGps(df_lag_lat, 'LAG', 'LON', window_spec)"
            ]
        },
        {
            "cell_type": "code",
            "execution_count": 16,
            "metadata": {},
            "outputs": [],
            "source": [
                "@F.udf(returnType=IntegerType())\n",
                "def calcDistance(lon_a, lat_a, lon_b, lat_b):\n",
                "    geo_list = [lon_a,  lat_a, lon_b, lat_b]\n",
                "    if any(x is None for x in geo_list):\n",
                "        return None\n",
                "    else:\n",
                "        # Transform to radians\n",
                "        lon_a, lat_a, lon_b, lat_b = map(radians, geo_list)\n",
                "        dist_lon = lon_b - lon_a\n",
                "        dist_lat = lat_b - lat_a\n",
                "        # Calculate area\n",
                "        area = sin(dist_lat/2)**2 + cos(lat_a) * cos(lat_b) * sin(dist_lon/2)**2\n",
                "        # Calculate the central angle\n",
                "        central_angle = 2 * asin(sqrt(area))\n",
                "        radius = 6371\n",
                "        # Calculate Distance\n",
                "        distance = central_angle * radius\n",
                "        return int(abs(round(distance, 3)) * 1000)"
            ]
        },
        {
            "cell_type": "code",
            "execution_count": 17,
            "metadata": {},
            "outputs": [],
            "source": [
                "df_distance = (\n",
                "    df_lag_lon\n",
                "        .withColumn('DISTANCE', calcDistance(\n",
                "            F.col('LAG_LON'), \n",
                "            F.col('LAG_LAT'), \n",
                "            F.col('LON'), \n",
                "            F.col('LAT')\n",
                "            )\n",
                "        )\n",
                "    )   "
            ]
        },
        {
            "cell_type": "code",
            "execution_count": 18,
            "metadata": {},
            "outputs": [],
            "source": [
                "df_gps_delay = (\n",
                "    df_distance\n",
                "        .withColumn('GPS_DELAY',\n",
                "            F.when(\n",
                "                F.col('STIME_SEC') - F.col('LTIME_SEC') < -32000, -32000\n",
                "            )\n",
                "            .otherwise(\n",
                "                F.when(\n",
                "                    F.col('STIME_SEC') - F.col('LTIME_SEC') > 32000, -32000\n",
                "                )\n",
                "                .otherwise(\n",
                "                    F.col('STIME_SEC') - F.col('LTIME_SEC')\n",
                "                )\n",
                "            )\n",
                "        )\n",
                "    )"
            ]
        },
        {
            "cell_type": "code",
            "execution_count": 19,
            "metadata": {},
            "outputs": [],
            "source": [
                "@F.udf(returnType=IntegerType())\n",
                "def epochToWeekday(epoch):\n",
                "    return int(datetime.fromtimestamp(epoch).strftime('%w'))"
            ]
        },
        {
            "cell_type": "code",
            "execution_count": 20,
            "metadata": {},
            "outputs": [],
            "source": [
                "@F.udf(returnType=IntegerType())\n",
                "def epochToHour(epoch):\n",
                "    return int(datetime.fromtimestamp(epoch).strftime('%-H'))"
            ]
        },
        {
            "cell_type": "code",
            "execution_count": 21,
            "metadata": {},
            "outputs": [],
            "source": [
                "df_weekday = df_gps_delay.withColumn('WEEKDAY', epochToWeekday(F.col('STIME_SEC')))\n",
                "df_hour = df_weekday.withColumn('HOUR', epochToHour(F.col('STIME_SEC')))"
            ]
        },
        {
            "cell_type": "code",
            "execution_count": 22,
            "metadata": {},
            "outputs": [],
            "source": [
                "df_weekend = (\n",
                "    df_hour\n",
                "        .withColumn('WEEKEND', \n",
                "            F.when(\n",
                "                F.col('WEEKDAY').isin([6, 0]), True\n",
                "            )\n",
                "            .otherwise(False)\n",
                "        )\n",
                "    )   "
            ]
        },
        {
            "cell_type": "code",
            "execution_count": 23,
            "metadata": {},
            "outputs": [],
            "source": [
                "def isSummerTime(dt=datetime.now(), timezone=\"Europe/Berlin\"):\n",
                "    timezone = pytz.timezone(timezone)\n",
                "    timezone_aware_date = timezone.localize(dt, is_dst=None)\n",
                "    return timezone_aware_date.tzinfo._dst.seconds != 0"
            ]
        },
        {
            "cell_type": "code",
            "execution_count": 24,
            "metadata": {},
            "outputs": [],
            "source": [
                "hours_added = 1\n",
                "if isSummerTime():\n",
                "    hours_added = 2\n",
                "\n",
                "df_time_day = (\n",
                "    df_weekend\n",
                "        .withColumn('TIME_DAY', \n",
                "            F.when(\n",
                "                (F.col('HOUR') + F.lit(hours_added)).between(6, 11), 'MORNING'\n",
                "            )\n",
                "            .otherwise(\n",
                "                F.when(\n",
                "                    (F.col('HOUR') + F.lit(hours_added)).between(12, 17), 'AFTERNOON'\n",
                "                )\n",
                "                .otherwise(\n",
                "                    F.when(\n",
                "                        (F.col('HOUR') + F.lit(hours_added)).between(18, 24), 'NIGHT'\n",
                "                    )\n",
                "                    .otherwise('NIGHT')\n",
                "                )\n",
                "            )\n",
                "        )\n",
                "    )"
            ]
        },
        {
            "cell_type": "code",
            "execution_count": 25,
            "metadata": {},
            "outputs": [],
            "source": [
                "#df_time_day.select(['STIME_SEC', 'WEEKDAY', 'WEEKEND', 'HOUR', 'TIME_DAY', 'LEVEL']).show(50)"
            ]
        },
        {
            "cell_type": "code",
            "execution_count": 26,
            "metadata": {},
            "outputs": [],
            "source": [
                "@F.udf(returnType=DoubleType())\n",
                "def dbmToMw(level):\n",
                "    if level is None:\n",
                "        return None\n",
                "    else:\n",
                "        return 10**((level)/10.)"
            ]
        },
        {
            "cell_type": "code",
            "execution_count": 27,
            "metadata": {},
            "outputs": [],
            "source": [
                "df_level = df_time_day.withColumn('LEVEL_MW', dbmToMw(F.col('LEVEL')))"
            ]
        },
        {
            "cell_type": "code",
            "execution_count": 29,
            "metadata": {},
            "outputs": [],
            "source": [
                "container_name = 'data'\n",
                "path_to_table = '/features/'\n",
                "\n",
                "def writeDataframeToAdls(dataframe, container_name, path_to_table, table_name, mode='overwrite'):\n",
                "    (dataframe\n",
                "        .write\n",
                "        .mode(mode)\n",
                "        .format(\"table_name\")\n",
                "        .parquet(f\"abfss://{container_name}@REDACTED.dfs.core.windows.net{path_to_table}{table_name}\")\n",
                "    )"
            ]
        },
        {
            "cell_type": "code",
            "execution_count": 30,
            "metadata": {},
            "outputs": [],
            "source": [
                "writeDataframeToAdls(df_level, container_name, path_to_table, \"df_features\")"
            ]
        }
    ],
    "metadata": {
        "kernelspec": {
            "name": "python388jvsc74a57bd058e6223ac5c8c7ef55d9d5055af95e104c66bf5bb7dbed705cd170d4c54975cd",
            "display_name": "Python 3.8.8 64-bit"
        },
        "language_info": {
            "codemirror_mode": {
                "name": "ipython",
                "version": 3
            },
            "file_extension": ".py",
            "mimetype": "text/x-python",
            "name": "python",
            "nbconvert_exporter": "python",
            "pygments_lexer": "ipython3",
            "version": "3.8.8-final"
        }
    },
    "nbformat": 4,
    "nbformat_minor": 4
}