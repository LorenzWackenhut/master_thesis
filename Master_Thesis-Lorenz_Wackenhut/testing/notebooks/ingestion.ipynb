{
    "cells": [
        {
            "cell_type": "code",
            "execution_count": 1,
            "metadata": {},
            "outputs": [],
            "source": [
                "import pyspark\n",
                "from pyspark.sql.types import *\n",
                "from pyspark import SparkContext\n",
                "from pyspark.sql import SparkSession\n",
                "from pyspark.sql import SQLContext\n",
                "from pyspark.sql.window import Window\n",
                "import pyspark.sql.functions as F\n",
                "from math import radians, cos, sin, asin, sqrt\n"
            ]
        },
        {
            "cell_type": "code",
            "execution_count": 2,
            "metadata": {},
            "outputs": [],
            "source": [
                "account_name = \"REDACTED\"\n",
                "account_key = \"REDACTED\"\n",
                "\n",
                "spark = (\n",
                "    SparkSession\n",
                "        .builder\n",
                "        .master('local[*]')\n",
                "        .appName(\"Ingestion\")\n",
                "        .config(\"spark.driver.memory\", \"4g\")\n",
                "        .config(\"fs.azure.account.auth.type.\" + account_name + \".dfs.core.windows.net\", \"SharedKey\")\n",
                "        .config(\"fs.azure.account.key.\" + account_name + \".dfs.core.windows.net\", account_key)\n",
                "        .getOrCreate()\n",
                ")\n",
                "\n",
                "sc = spark.sparkContext"
            ]
        },
        {
            "cell_type": "code",
            "execution_count": 3,
            "metadata": {},
            "outputs": [],
            "source": [
                "container_name = 'data'\n",
                "path_to_table = '/masterdata/'\n",
                "\n",
                "def getDataframeFromAdls(spark_session, container_name, path_to_table, table_name):\n",
                "    return spark_session.read.parquet(f\"abfss://{container_name}@REDACTED.dfs.core.windows.net{path_to_table}{table_name}\")"
            ]
        },
        {
            "cell_type": "code",
            "execution_count": 4,
            "metadata": {},
            "outputs": [],
            "source": [
                "df_qb_file = (\n",
                "    getDataframeFromAdls(spark, container_name, path_to_table, 'df_qb_file')\n",
                "        .select(['ID_FILE'])\n",
                ")\n",
                "\n",
                "df_qd_state = (\n",
                "    getDataframeFromAdls(spark, container_name, path_to_table, 'df_qd_state')\n",
                "        .select(['ID', 'ID_FILE', 'STIME', 'STYPE', 'ACTIVITY_STATE', 'ACTIVITY_CONFID'])\n",
                "        .withColumnRenamed('ID', 'ID_STATE')\n",
                ")\n",
                "\n",
                "df_qd_state_gps = (\n",
                "    getDataframeFromAdls(spark, container_name, path_to_table, 'df_qd_state_gps')\n",
                "        .select(['ID_STATE', 'ID_FILE', 'LTIME', 'SOURCE', 'SPEED', 'ACCURACY', 'LON', 'LAT'])\n",
                ")\n",
                "\n",
                "df_qd_state_cell = (\n",
                "    getDataframeFromAdls(spark, container_name, path_to_table, 'df_qd_state_cell')\n",
                "        .select(['ID_STATE', 'ID_FILE', 'TYPE', 'LEVEL', 'QUAL', 'SLOT'])\n",
                ")\n",
                "\n",
                "df_qd_state_wifi = (\n",
                "    getDataframeFromAdls(spark, container_name, path_to_table, 'df_qd_state_wifi')\n",
                "        .select(['ID_STATE', 'ID_FILE'])\n",
                ")\n",
                "\n",
                "df_qd_state_sense = (\n",
                "    getDataframeFromAdls(spark, container_name, path_to_table, 'df_qd_state_sens')\n",
                "        .select(['ID_STATE', 'ID_FILE', 'LIGHT', 'MAGNET_X', 'MAGNET_Y', 'MAGNET_Z', 'PROXIMITY'])\n",
                "        .withColumn('MAGNET_X', F.when(\n",
                "            (F.abs(F.col('MAGNET_X')) < 100000), F.col('MAGNET_X'))\n",
                "            .otherwise(F.lit(None)))\n",
                "        .withColumn('MAGNET_Y', F.when(\n",
                "            (F.abs(F.col('MAGNET_X')) < 100000), F.col('MAGNET_X'))\n",
                "            .otherwise(F.lit(None)))\n",
                "        .withColumn('MAGNET_Z', F.when(\n",
                "            (F.abs(F.col('MAGNET_X')) < 100000), F.col('MAGNET_X'))\n",
                "            .otherwise(F.lit(None)))\n",
                ")\n",
                "\n",
                "df_qd_state_batt = (\n",
                "    getDataframeFromAdls(spark, container_name, path_to_table, 'df_qd_state_batt')\n",
                "        .select(['ID_STATE', 'ID_FILE', 'BATT_CHARGE'])\n",
                ")"
            ]
        },
        {
            "cell_type": "code",
            "execution_count": 5,
            "metadata": {},
            "outputs": [],
            "source": [
                "condition_qdState_qbFile = ['ID_FILE']\n",
                "condition_qdState_qdStateGps = [\n",
                "    (df_qd_state.ID_STATE == df_qd_state_gps.ID_STATE) & \n",
                "    (df_qd_state.ID_FILE == df_qd_state_gps.ID_FILE) &\n",
                "    (df_qd_state_gps.LON.between(-180, 180)) & \n",
                "    (df_qd_state_gps.LAT.between(-90, 90))\n",
                "]\n",
                "condition_qdState_qdStateCell = [\n",
                "    (df_qd_state.ID_STATE == df_qd_state_cell.ID_STATE) &\n",
                "    (df_qd_state.ID_FILE == df_qd_state_cell.ID_FILE) &\n",
                "    (df_qd_state_cell.SLOT == 0)\n",
                "]\n",
                "condition_qdState_qdStateWifi = ['ID_FILE', 'ID_STATE']\n",
                "condition_qdState_qdStateSense = ['ID_FILE', 'ID_STATE']\n",
                "condition_qdState_qdStateBatt = ['ID_FILE', 'ID_STATE']"
            ]
        },
        {
            "cell_type": "code",
            "execution_count": 6,
            "metadata": {},
            "outputs": [],
            "source": [
                "df_join = (\n",
                "    df_qd_state\n",
                "        .join(F.broadcast(df_qb_file), on=condition_qdState_qbFile, how='inner')\n",
                "        .join(F.broadcast(df_qd_state_gps), on=condition_qdState_qdStateGps, how='inner')\n",
                "        .drop(df_qd_state_gps.ID_FILE).drop(df_qd_state_gps.ID_STATE)\n",
                "        .join(F.broadcast(df_qd_state_cell), on=condition_qdState_qdStateCell, how='left')\n",
                "        .drop(df_qd_state_cell.ID_FILE).drop(df_qd_state_cell.ID_STATE)\n",
                "        .join(F.broadcast(df_qd_state_wifi), on=condition_qdState_qdStateWifi, how='left')\n",
                "        .join(F.broadcast(df_qd_state_sense), on=condition_qdState_qdStateSense, how='left')\n",
                "        .join(F.broadcast(df_qd_state_batt), on=condition_qdState_qdStateBatt, how='left')\n",
                "        .cache()\n",
                ")"
            ]
        },
        {
            "cell_type": "code",
            "execution_count": 7,
            "metadata": {},
            "outputs": [
                {
                    "output_type": "execute_result",
                    "data": {
                        "text/plain": [
                            "\"\\ndf_join_sec = (\\n    df_join\\n        .withColumn('STIME', F.col('STIME').cast('string'))\\n        .withColumn('LTIME', F.col('LTIME').cast('string'))\\n        .withColumn('STIME_SEC',F.expr('substring(STIME, 1, length(STIME)-3)'))\\n        .withColumn('LTIME_SEC',F.expr('substring(LTIME, 1, length(STIME)-3)'))\\n        .withColumn('STIME_SEC', F.col('STIME_SEC').cast('bigint'))\\n        .withColumn('LTIME_SEC', F.col('LTIME_SEC').cast('bigint'))\\n        .withColumn('STIME', F.col('STIME').cast('bigint'))\\n        .withColumn('LTIME', F.col('LTIME').cast('bigint'))\\n)\\n\""
                        ]
                    },
                    "metadata": {},
                    "execution_count": 7
                }
            ],
            "source": [
                "'''\n",
                "df_join_sec = (\n",
                "    df_join\n",
                "        .withColumn('STIME', F.col('STIME').cast('string'))\n",
                "        .withColumn('LTIME', F.col('LTIME').cast('string'))\n",
                "        .withColumn('STIME_SEC',F.expr('substring(STIME, 1, length(STIME)-3)'))\n",
                "        .withColumn('LTIME_SEC',F.expr('substring(LTIME, 1, length(STIME)-3)'))\n",
                "        .withColumn('STIME_SEC', F.col('STIME_SEC').cast('bigint'))\n",
                "        .withColumn('LTIME_SEC', F.col('LTIME_SEC').cast('bigint'))\n",
                "        .withColumn('STIME', F.col('STIME').cast('bigint'))\n",
                "        .withColumn('LTIME', F.col('LTIME').cast('bigint'))\n",
                ")\n",
                "'''"
            ]
        },
        {
            "cell_type": "code",
            "execution_count": 8,
            "metadata": {},
            "outputs": [],
            "source": [
                "df_join_sec = (\n",
                "    df_join\n",
                "        .withColumn('STIME_SEC', F.round((F.col('STIME') / 1000)).cast(IntegerType()))\n",
                "        .withColumn('LTIME_SEC', F.round((F.col('LTIME') / 1000)).cast(IntegerType()))\n",
                "    )"
            ]
        },
        {
            "cell_type": "code",
            "execution_count": 9,
            "metadata": {},
            "outputs": [
                {
                    "output_type": "execute_result",
                    "data": {
                        "text/plain": [
                            "\"(df_join_sec\\n    .select(['ID_FILE', 'ID_STATE', 'STIME', 'STIME_SEC', 'LTIME_SEC', 'LTIME', 'SPEED'])\\n    .orderBy(['STIME', 'LTIME'])\\n    .show(10)\\n)\""
                        ]
                    },
                    "metadata": {},
                    "execution_count": 9
                }
            ],
            "source": [
                "'''(df_join_sec\n",
                "    .select(['ID_FILE', 'ID_STATE', 'STIME', 'STIME_SEC', 'LTIME_SEC', 'LTIME', 'SPEED'])\n",
                "    .orderBy(['STIME', 'LTIME'])\n",
                "    .show(10)\n",
                ")'''"
            ]
        },
        {
            "cell_type": "code",
            "execution_count": 10,
            "metadata": {},
            "outputs": [],
            "source": [
                "window_spec  = Window.partitionBy(\"ID_FILE\").orderBy(['ID_FILE', 'ID_STATE'])"
            ]
        },
        {
            "cell_type": "code",
            "execution_count": 11,
            "metadata": {},
            "outputs": [],
            "source": [
                "def getWindowConditionLagGps(window_spec):\n",
                "    return (\n",
                "    (F.col('STIME_SEC') - F.lag(F.col('STIME_SEC')).over(window_spec)).between(0, 900) &\n",
                "    (F.col('STIME_SEC') - F.col('LTIME_SEC')).between(0, 180) &\n",
                "    ((F.lag(F.col('STIME_SEC'))).over(window_spec) -\n",
                "        F.lag(F.col('LTIME_SEC')).over(window_spec))\n",
                "    .between(0, 180)\n",
                "    )"
            ]
        },
        {
            "cell_type": "code",
            "execution_count": 12,
            "metadata": {},
            "outputs": [],
            "source": [
                "def getWindowConditionLeadGps(window_spec):\n",
                "    return (\n",
                "    (F.lead(F.col('STIME_SEC')).over(window_spec) - F.col('STIME_SEC')).between(0, 960) &\n",
                "    (F.col('STIME_SEC') - F.col('LTIME_SEC')).between(0, 180) &\n",
                "    ((F.lead(F.col('STIME_SEC'))).over(window_spec) -\n",
                "        F.lead(F.col('LTIME_SEC')).over(window_spec))\n",
                "    .between(0, 180)\n",
                "    )"
            ]
        },
        {
            "cell_type": "code",
            "execution_count": 13,
            "metadata": {},
            "outputs": [],
            "source": [
                "def getWindowConditionLagGpsActivity(window_spec):\n",
                "    return (\n",
                "    (F.col('STIME_SEC') - F.lag(F.col('STIME_SEC')).over(window_spec)) < 900\n",
                "    )"
            ]
        },
        {
            "cell_type": "code",
            "execution_count": 14,
            "metadata": {},
            "outputs": [],
            "source": [
                "def getWindowConditionLeadGpsActivity(window_spec):\n",
                "    return (\n",
                "    (F.lead(F.col('STIME_SEC')).over(window_spec) - F.col('STIME_SEC')) < 900\n",
                "    )"
            ]
        },
        {
            "cell_type": "code",
            "execution_count": 15,
            "metadata": {},
            "outputs": [],
            "source": [
                "def getWindowResultGpsSpeed(window_spec, lag_or_lead):\n",
                "    lagOrLead = lag_or_lead\n",
                "    return (\n",
                "    lagOrLead(F.col('SPEED')).over(window_spec)\n",
                "    )"
            ]
        },
        {
            "cell_type": "code",
            "execution_count": 16,
            "metadata": {},
            "outputs": [],
            "source": [
                "def getWindowResultGpsActivity(window_spec, lag_or_lead):\n",
                "    lagOrLead = lag_or_lead\n",
                "    return (\n",
                "    lagOrLead(F.col('ACTIVITY_STATE')).over(window_spec)\n",
                "    )"
            ]
        },
        {
            "cell_type": "code",
            "execution_count": 17,
            "metadata": {},
            "outputs": [],
            "source": [
                "def getWindowResultLagGpsTime(window_spec):\n",
                "    return (\n",
                "    F.col('LTIME_SEC') - F.lag(F.col('LTIME_SEC')).over(window_spec)\n",
                "    )"
            ]
        },
        {
            "cell_type": "code",
            "execution_count": 18,
            "metadata": {},
            "outputs": [],
            "source": [
                "def getWindowResultLeadGpsTime(window_spec):\n",
                "    return (\n",
                "    F.lead(F.col('LTIME_SEC')).over(window_spec) - F.col('LTIME_SEC')\n",
                "    )"
            ]
        },
        {
            "cell_type": "code",
            "execution_count": 19,
            "metadata": {},
            "outputs": [],
            "source": [
                "def getWindowResultLagGpsGeo(window_spec, lat_or_lon):\n",
                "    return (\n",
                "    F.lag(F.col(lat_or_lon)).over(window_spec)\n",
                "    )"
            ]
        },
        {
            "cell_type": "code",
            "execution_count": 20,
            "metadata": {},
            "outputs": [],
            "source": [
                "def getLagOrLeadGps(df, lag_or_lead, speed_time_activity_geo, window_spec):\n",
                "    name = f'{lag_or_lead}_GPS_{speed_time_activity_geo}'\n",
                "    if lag_or_lead == 'LAG':\n",
                "        condition = getWindowConditionLagGps(window_spec)\n",
                "        if speed_time_activity_geo == 'TIME':\n",
                "            result = getWindowResultLagGpsTime(window_spec)\n",
                "        elif speed_time_activity_geo == 'SPEED':\n",
                "            result = getWindowResultGpsSpeed(window_spec, F.lag)\n",
                "        elif speed_time_activity_geo == 'ACTIVITY':\n",
                "            condition = getWindowConditionLagGpsActivity(window_spec)\n",
                "            result = getWindowResultGpsActivity(window_spec, F.lag)\n",
                "        elif speed_time_activity_geo == 'LAT':\n",
                "            result = getWindowResultLagGpsGeo(window_spec, 'LAT')\n",
                "        elif speed_time_activity_geo == 'LON':\n",
                "            result = getWindowResultLagGpsGeo(window_spec, 'LON')\n",
                "            \n",
                "    elif lag_or_lead == 'LEAD':\n",
                "        condition = getWindowConditionLeadGps(window_spec)\n",
                "        if speed_time_activity_geo == 'TIME':\n",
                "            result = getWindowResultLeadGpsTime(window_spec)\n",
                "        elif speed_time_activity_geo == 'SPEED':\n",
                "            result = getWindowResultGpsSpeed(window_spec, F.lead)\n",
                "        elif speed_time_activity_geo == 'ACTIVITY':\n",
                "            condition = getWindowConditionLeadGpsActivity(window_spec)\n",
                "            result = getWindowResultGpsActivity(window_spec, F.lead)\n",
                "        \n",
                "    return (\n",
                "    df.withColumn(name,\n",
                "        F.when(condition, result)\n",
                "            .otherwise(F.lit(None))\n",
                "        ).cache()\n",
                "    ) "
            ]
        },
        {
            "cell_type": "code",
            "execution_count": 21,
            "metadata": {},
            "outputs": [],
            "source": [
                "df_lag_speed = getLagOrLeadGps(df_join_sec, 'LAG', 'SPEED', window_spec)"
            ]
        },
        {
            "cell_type": "code",
            "execution_count": 22,
            "metadata": {},
            "outputs": [],
            "source": [
                "df_lead_speed = getLagOrLeadGps(df_lag_speed, 'LEAD', 'SPEED', window_spec)"
            ]
        },
        {
            "cell_type": "code",
            "execution_count": 23,
            "metadata": {},
            "outputs": [],
            "source": [
                "df_lag_time = getLagOrLeadGps(df_lead_speed, 'LAG', 'TIME', window_spec)"
            ]
        },
        {
            "cell_type": "code",
            "execution_count": 24,
            "metadata": {},
            "outputs": [],
            "source": [
                "df_lead_time = getLagOrLeadGps(df_lag_time, 'LEAD', 'TIME', window_spec)"
            ]
        },
        {
            "cell_type": "code",
            "execution_count": 25,
            "metadata": {},
            "outputs": [],
            "source": [
                "df_lag_activity = getLagOrLeadGps(df_lead_time, 'LAG', 'ACTIVITY', window_spec)"
            ]
        },
        {
            "cell_type": "code",
            "execution_count": 26,
            "metadata": {},
            "outputs": [],
            "source": [
                "df_lead_activity = getLagOrLeadGps(df_lag_activity, 'LEAD', 'ACTIVITY', window_spec)"
            ]
        },
        {
            "cell_type": "code",
            "execution_count": 27,
            "metadata": {},
            "outputs": [],
            "source": [
                "df_lag_lat = getLagOrLeadGps(df_lead_activity, 'LAG', 'LAT', window_spec)"
            ]
        },
        {
            "cell_type": "code",
            "execution_count": 28,
            "metadata": {},
            "outputs": [],
            "source": [
                "df_lag_lon = getLagOrLeadGps(df_lag_lat, 'LAG', 'LON', window_spec)"
            ]
        },
        {
            "cell_type": "code",
            "execution_count": 29,
            "metadata": {},
            "outputs": [
                {
                    "output_type": "execute_result",
                    "data": {
                        "text/plain": [
                            "\"\\n(df_lag_lon\\n    .select(['STIME_SEC', 'LTIME_SEC', 'SPEED', 'LAG_GPS_SPEED', 'LEAD_GPS_SPEED', 'LAG_GPS_TIME', 'LEAD_GPS_TIME', 'LAG_GPS_ACTIVITY', 'LEAD_GPS_ACTIVITY', 'LAG_GPS_LON', 'LAG_GPS_LAT'])\\n    .filter((F.col('LAG_GPS_SPEED') > 0) & (F.col('LEAD_GPS_SPEED') > 0))\\n    .orderBy(['STIME_SEC', 'LTIME_SEC'])\\n    .show(10))\\n\""
                        ]
                    },
                    "metadata": {},
                    "execution_count": 29
                }
            ],
            "source": [
                "'''\n",
                "(df_lag_lon\n",
                "    .select(['STIME_SEC', 'LTIME_SEC', 'SPEED', 'LAG_GPS_SPEED', 'LEAD_GPS_SPEED', 'LAG_GPS_TIME', 'LEAD_GPS_TIME', 'LAG_GPS_ACTIVITY', 'LEAD_GPS_ACTIVITY', 'LAG_GPS_LON', 'LAG_GPS_LAT'])\n",
                "    .filter((F.col('LAG_GPS_SPEED') > 0) & (F.col('LEAD_GPS_SPEED') > 0))\n",
                "    .orderBy(['STIME_SEC', 'LTIME_SEC'])\n",
                "    .show(10))\n",
                "'''"
            ]
        },
        {
            "cell_type": "code",
            "execution_count": 30,
            "metadata": {},
            "outputs": [],
            "source": [
                "@F.udf(returnType=IntegerType())\n",
                "def calcDistance(lon_a, lat_a, lon_b, lat_b):\n",
                "    geo_list = [lon_a,  lat_a, lon_b, lat_b]\n",
                "    if any(x is None for x in geo_list):\n",
                "        return None\n",
                "    else:\n",
                "        # Transform to radians\n",
                "        lon_a, lat_a, lon_b, lat_b = map(radians, geo_list)\n",
                "        dist_lon = lon_b - lon_a\n",
                "        dist_lat = lat_b - lat_a\n",
                "        # Calculate area\n",
                "        area = sin(dist_lat/2)**2 + cos(lat_a) * cos(lat_b) * sin(dist_lon/2)**2\n",
                "        # Calculate the central angle\n",
                "        central_angle = 2 * asin(sqrt(area))\n",
                "        radius = 6371\n",
                "        # Calculate Distance\n",
                "        distance = central_angle * radius\n",
                "        return int(abs(round(distance, 3)) * 1000)"
            ]
        },
        {
            "cell_type": "code",
            "execution_count": 31,
            "metadata": {},
            "outputs": [],
            "source": [
                "df_distance = (\r\n",
                "    df_lag_lon\r\n",
                "        .withColumn('DISTANCE', calcDistance(\r\n",
                "            F.col('LAG_GPS_LON'), \r\n",
                "            F.col('LAG_GPS_LAT'), \r\n",
                "            F.col('LON'), \r\n",
                "            F.col('LAT')\r\n",
                "            )\r\n",
                "        )\r\n",
                "    )   "
            ]
        },
        {
            "cell_type": "code",
            "execution_count": 32,
            "metadata": {},
            "outputs": [
                {
                    "output_type": "execute_result",
                    "data": {
                        "text/plain": [
                            "\"(df_distance\\n    .select(['STIME_SEC', 'LTIME_SEC', 'LON', 'LAT', 'LAG_GPS_LON', 'LAG_GPS_LAT', 'DISTANCE'])\\n    .filter(F.col('DISTANCE') > 0)\\n    .orderBy(['STIME_SEC', 'LTIME_SEC'])\\n    .show(50))\""
                        ]
                    },
                    "metadata": {},
                    "execution_count": 32
                }
            ],
            "source": [
                "'''(df_distance\n",
                "    .select(['STIME_SEC', 'LTIME_SEC', 'LON', 'LAT', 'LAG_GPS_LON', 'LAG_GPS_LAT', 'DISTANCE'])\n",
                "    .filter(F.col('DISTANCE') > 0)\n",
                "    .orderBy(['STIME_SEC', 'LTIME_SEC'])\n",
                "    .show(50))'''"
            ]
        },
        {
            "cell_type": "code",
            "execution_count": 33,
            "metadata": {},
            "outputs": [],
            "source": [
                "df_gps_delay = (\n",
                "    df_distance\n",
                "        .withColumn('GPS_DELAY',\n",
                "            F.when(\n",
                "                F.col('STIME_SEC') - F.col('LTIME_SEC') < -32000, -32000\n",
                "            )\n",
                "            .otherwise(\n",
                "                F.when(\n",
                "                    F.col('STIME_SEC') - F.col('LTIME_SEC') > 32000, -32000\n",
                "                )\n",
                "                .otherwise(\n",
                "                    F.col('STIME_SEC') - F.col('LTIME_SEC')\n",
                "                )\n",
                "            )\n",
                "        )\n",
                "    )"
            ]
        },
        {
            "cell_type": "code",
            "execution_count": 34,
            "metadata": {},
            "outputs": [
                {
                    "output_type": "execute_result",
                    "data": {
                        "text/plain": [
                            "\"(df_gps_delay\\n    .select(['STIME_SEC', 'LTIME_SEC', 'LON', 'LAT', 'LAG_GPS_LON', 'LAG_GPS_LAT', 'DISTANCE', 'GPS_DELAY'])\\n    .orderBy(['STIME_SEC', 'LTIME_SEC'])\\n    .show(50))\""
                        ]
                    },
                    "metadata": {},
                    "execution_count": 34
                }
            ],
            "source": [
                "'''(df_gps_delay\n",
                "    .select(['STIME_SEC', 'LTIME_SEC', 'LON', 'LAT', 'LAG_GPS_LON', 'LAG_GPS_LAT', 'DISTANCE', 'GPS_DELAY'])\n",
                "    .orderBy(['STIME_SEC', 'LTIME_SEC'])\n",
                "    .show(50))'''"
            ]
        },
        {
            "cell_type": "code",
            "execution_count": 35,
            "metadata": {},
            "outputs": [],
            "source": [
                "df_pandas = df_gps_delay.toPandas()"
            ]
        },
        {
            "cell_type": "code",
            "execution_count": 36,
            "metadata": {},
            "outputs": [
                {
                    "output_type": "execute_result",
                    "data": {
                        "text/plain": [
                            "         STIME_SEC   LTIME_SEC  SPEED  LAG_GPS_SPEED  LEAD_GPS_SPEED  \\\n",
                            "656437  1588962581  1588962580      0            0.0             0.0   \n",
                            "656447  1588972809  1588972809      0            0.0             NaN   \n",
                            "656449  1588974538  1588974538      0            0.0             0.0   \n",
                            "103976  1589260532  1589260532     10           29.0            10.0   \n",
                            "103977  1589260533  1589260532     10           10.0            48.0   \n",
                            "103978  1589260563  1589260563     48           10.0             0.0   \n",
                            "103979  1589260594  1589260594      0           48.0             1.0   \n",
                            "103981  1589261400  1589261400      0            1.0             0.0   \n",
                            "103983  1589261430  1589261414     58            0.0             NaN   \n",
                            "103986  1589261490  1589261475     50           49.0             NaN   \n",
                            "103989  1589262081  1589262065      0           64.0             NaN   \n",
                            "291558  1589444001  1589444000      0            0.0             0.0   \n",
                            "291562  1589444318  1589444302      0           17.0             NaN   \n",
                            "795101  1589847918  1589847918      0            0.0             0.0   \n",
                            "795103  1589848036  1589847978      0            0.0             0.0   \n",
                            "795104  1589848095  1589848036      0            0.0             0.0   \n",
                            "795105  1589848156  1589848096      0            0.0             0.0   \n",
                            "795106  1589848216  1589848159      0            0.0             0.0   \n",
                            "795107  1589848276  1589848216      0            0.0             0.0   \n",
                            "795108  1589848337  1589848278      0            0.0             0.0   \n",
                            "795109  1589848396  1589848337      0            0.0             NaN   \n",
                            "795114  1589848758  1589848698      0            0.0             0.0   \n",
                            "795115  1589848818  1589848758      0            0.0             0.0   \n",
                            "795119  1589849057  1589848998      0            0.0             NaN   \n",
                            "795125  1589849359  1589849324      0            0.0             0.0   \n",
                            "795126  1589849418  1589849359      0            0.0             0.0   \n",
                            "795127  1589849478  1589849419      0            0.0             0.0   \n",
                            "795128  1589849528  1589849528      0            0.0             0.0   \n",
                            "795130  1589849598  1589849539      0            0.0             0.0   \n",
                            "795133  1589849822  1589849820      0            0.0             0.0   \n",
                            "795134  1589850025  1589850023      0            0.0             0.0   \n",
                            "795135  1589850188  1589850187      0            0.0             0.0   \n",
                            "795136  1589850362  1589850361      0            0.0             0.0   \n",
                            "795137  1589850522  1589850520      0            0.0             NaN   \n",
                            "795140  1589851039  1589851037      0            0.0             0.0   \n",
                            "795141  1589851207  1589851205      0            0.0             0.0   \n",
                            "795142  1589851383  1589851383      0            0.0             0.0   \n",
                            "795143  1589851538  1589851536      0            0.0             0.0   \n",
                            "795144  1589851706  1589851705      0            0.0             0.0   \n",
                            "795145  1589851864  1589851864      0            0.0             0.0   \n",
                            "795148  1589852013  1589852011      0            0.0             NaN   \n",
                            "795151  1589852315  1589852314      0            0.0             0.0   \n",
                            "795152  1589852466  1589852464      0            0.0             0.0   \n",
                            "795153  1589852620  1589852619      0            0.0             0.0   \n",
                            "795154  1589852793  1589852791      0            0.0             0.0   \n",
                            "795155  1589852949  1589852948      0            0.0             NaN   \n",
                            "795158  1589853438  1589853436      0            0.0             0.0   \n",
                            "795159  1589853607  1589853605      0            0.0             0.0   \n",
                            "795160  1589853782  1589853781      0            0.0             0.0   \n",
                            "795161  1589853968  1589853968      0            0.0             0.0   \n",
                            "\n",
                            "              LON        LAT  LAG_GPS_LON  LAG_GPS_LAT  DISTANCE  \n",
                            "656437   7.015380  49.215580     7.015372    49.215576       1.0  \n",
                            "656447   7.015378  49.215588     7.015380    49.215580       1.0  \n",
                            "656449   7.015431  49.215576     7.015378    49.215588       4.0  \n",
                            "103976   8.037268  50.880848     8.037233    50.881630      87.0  \n",
                            "103977   8.037258  50.880830     8.037268    50.880848       2.0  \n",
                            "103978   8.035996  50.879870     8.037258    50.880830     139.0  \n",
                            "103979   8.032504  50.877907     8.035996    50.879870     328.0  \n",
                            "103981   8.106959  50.818060     8.032504    50.877903    8462.0  \n",
                            "103983   8.098655  50.814175     8.106959    50.818060     726.0  \n",
                            "103986   8.089755  50.807724     8.090233    50.809315     180.0  \n",
                            "103989   8.089754  50.802036     8.088505    50.803795     214.0  \n",
                            "291558   8.820222  49.873123     8.822462    49.868507     538.0  \n",
                            "291562   8.820067  49.873160     8.820559    49.872932      43.0  \n",
                            "795101  10.936566  50.250225    10.936698    50.250175      11.0  \n",
                            "795103  10.936606  50.250244    10.936566    50.250225       4.0  \n",
                            "795104  10.936689  50.250160    10.936606    50.250244      11.0  \n",
                            "795105  10.936717  50.250202    10.936689    50.250160       5.0  \n",
                            "795106  10.936621  50.250195    10.936717    50.250202       7.0  \n",
                            "795107  10.936733  50.250183    10.936621    50.250195       8.0  \n",
                            "795108  10.936604  50.250190    10.936733    50.250183       9.0  \n",
                            "795109  10.936708  50.250180    10.936604    50.250190       7.0  \n",
                            "795114  10.936611  50.250175    10.936615    50.250164       1.0  \n",
                            "795115  10.936613  50.250183    10.936611    50.250175       1.0  \n",
                            "795119  10.936615  50.250190    10.936611    50.250195       1.0  \n",
                            "795125  10.936708  50.250164    10.936621    50.250195       7.0  \n",
                            "795126  10.936624  50.250200    10.936708    50.250164       7.0  \n",
                            "795127  10.936624  50.250195    10.936624    50.250200       1.0  \n",
                            "795128  10.936758  50.250217    10.936624    50.250195      10.0  \n",
                            "795130  10.936625  50.250202    10.936758    50.250217      10.0  \n",
                            "795133  10.936722  50.250156    10.936623    50.250202       9.0  \n",
                            "795134  10.936696  50.250156    10.936722    50.250156       2.0  \n",
                            "795135  10.936733  50.250137    10.936696    50.250156       3.0  \n",
                            "795136  10.936733  50.250183    10.936733    50.250137       5.0  \n",
                            "795137  10.936737  50.250170    10.936733    50.250183       1.0  \n",
                            "795140  10.936709  50.250220    10.936739    50.250156       7.0  \n",
                            "795141  10.936710  50.250170    10.936709    50.250220       6.0  \n",
                            "795142  10.936761  50.250160    10.936710    50.250170       4.0  \n",
                            "795143  10.936842  50.250248    10.936761    50.250160      11.0  \n",
                            "795144  10.936717  50.250237    10.936842    50.250248       9.0  \n",
                            "795145  10.936706  50.250145    10.936717    50.250237      10.0  \n",
                            "795148  10.936759  50.250280    10.936706    50.250145      15.0  \n",
                            "795151  10.936721  50.250150    10.936759    50.250280      15.0  \n",
                            "795152  10.936797  50.250280    10.936721    50.250150      15.0  \n",
                            "795153  10.936752  50.250190    10.936797    50.250280      11.0  \n",
                            "795154  10.936664  50.250095    10.936752    50.250190      12.0  \n",
                            "795155  10.936705  50.250134    10.936664    50.250095       5.0  \n",
                            "795158  10.936704  50.250250    10.936729    50.250237       2.0  \n",
                            "795159  10.936708  50.250153    10.936704    50.250250      11.0  \n",
                            "795160  10.936688  50.250140    10.936708    50.250153       2.0  \n",
                            "795161  10.936710  50.250217    10.936688    50.250140       9.0  "
                        ],
                        "text/html": "<div>\n<style scoped>\n    .dataframe tbody tr th:only-of-type {\n        vertical-align: middle;\n    }\n\n    .dataframe tbody tr th {\n        vertical-align: top;\n    }\n\n    .dataframe thead th {\n        text-align: right;\n    }\n</style>\n<table border=\"1\" class=\"dataframe\">\n  <thead>\n    <tr style=\"text-align: right;\">\n      <th></th>\n      <th>STIME_SEC</th>\n      <th>LTIME_SEC</th>\n      <th>SPEED</th>\n      <th>LAG_GPS_SPEED</th>\n      <th>LEAD_GPS_SPEED</th>\n      <th>LON</th>\n      <th>LAT</th>\n      <th>LAG_GPS_LON</th>\n      <th>LAG_GPS_LAT</th>\n      <th>DISTANCE</th>\n    </tr>\n  </thead>\n  <tbody>\n    <tr>\n      <th>656437</th>\n      <td>1588962581</td>\n      <td>1588962580</td>\n      <td>0</td>\n      <td>0.0</td>\n      <td>0.0</td>\n      <td>7.015380</td>\n      <td>49.215580</td>\n      <td>7.015372</td>\n      <td>49.215576</td>\n      <td>1.0</td>\n    </tr>\n    <tr>\n      <th>656447</th>\n      <td>1588972809</td>\n      <td>1588972809</td>\n      <td>0</td>\n      <td>0.0</td>\n      <td>NaN</td>\n      <td>7.015378</td>\n      <td>49.215588</td>\n      <td>7.015380</td>\n      <td>49.215580</td>\n      <td>1.0</td>\n    </tr>\n    <tr>\n      <th>656449</th>\n      <td>1588974538</td>\n      <td>1588974538</td>\n      <td>0</td>\n      <td>0.0</td>\n      <td>0.0</td>\n      <td>7.015431</td>\n      <td>49.215576</td>\n      <td>7.015378</td>\n      <td>49.215588</td>\n      <td>4.0</td>\n    </tr>\n    <tr>\n      <th>103976</th>\n      <td>1589260532</td>\n      <td>1589260532</td>\n      <td>10</td>\n      <td>29.0</td>\n      <td>10.0</td>\n      <td>8.037268</td>\n      <td>50.880848</td>\n      <td>8.037233</td>\n      <td>50.881630</td>\n      <td>87.0</td>\n    </tr>\n    <tr>\n      <th>103977</th>\n      <td>1589260533</td>\n      <td>1589260532</td>\n      <td>10</td>\n      <td>10.0</td>\n      <td>48.0</td>\n      <td>8.037258</td>\n      <td>50.880830</td>\n      <td>8.037268</td>\n      <td>50.880848</td>\n      <td>2.0</td>\n    </tr>\n    <tr>\n      <th>103978</th>\n      <td>1589260563</td>\n      <td>1589260563</td>\n      <td>48</td>\n      <td>10.0</td>\n      <td>0.0</td>\n      <td>8.035996</td>\n      <td>50.879870</td>\n      <td>8.037258</td>\n      <td>50.880830</td>\n      <td>139.0</td>\n    </tr>\n    <tr>\n      <th>103979</th>\n      <td>1589260594</td>\n      <td>1589260594</td>\n      <td>0</td>\n      <td>48.0</td>\n      <td>1.0</td>\n      <td>8.032504</td>\n      <td>50.877907</td>\n      <td>8.035996</td>\n      <td>50.879870</td>\n      <td>328.0</td>\n    </tr>\n    <tr>\n      <th>103981</th>\n      <td>1589261400</td>\n      <td>1589261400</td>\n      <td>0</td>\n      <td>1.0</td>\n      <td>0.0</td>\n      <td>8.106959</td>\n      <td>50.818060</td>\n      <td>8.032504</td>\n      <td>50.877903</td>\n      <td>8462.0</td>\n    </tr>\n    <tr>\n      <th>103983</th>\n      <td>1589261430</td>\n      <td>1589261414</td>\n      <td>58</td>\n      <td>0.0</td>\n      <td>NaN</td>\n      <td>8.098655</td>\n      <td>50.814175</td>\n      <td>8.106959</td>\n      <td>50.818060</td>\n      <td>726.0</td>\n    </tr>\n    <tr>\n      <th>103986</th>\n      <td>1589261490</td>\n      <td>1589261475</td>\n      <td>50</td>\n      <td>49.0</td>\n      <td>NaN</td>\n      <td>8.089755</td>\n      <td>50.807724</td>\n      <td>8.090233</td>\n      <td>50.809315</td>\n      <td>180.0</td>\n    </tr>\n    <tr>\n      <th>103989</th>\n      <td>1589262081</td>\n      <td>1589262065</td>\n      <td>0</td>\n      <td>64.0</td>\n      <td>NaN</td>\n      <td>8.089754</td>\n      <td>50.802036</td>\n      <td>8.088505</td>\n      <td>50.803795</td>\n      <td>214.0</td>\n    </tr>\n    <tr>\n      <th>291558</th>\n      <td>1589444001</td>\n      <td>1589444000</td>\n      <td>0</td>\n      <td>0.0</td>\n      <td>0.0</td>\n      <td>8.820222</td>\n      <td>49.873123</td>\n      <td>8.822462</td>\n      <td>49.868507</td>\n      <td>538.0</td>\n    </tr>\n    <tr>\n      <th>291562</th>\n      <td>1589444318</td>\n      <td>1589444302</td>\n      <td>0</td>\n      <td>17.0</td>\n      <td>NaN</td>\n      <td>8.820067</td>\n      <td>49.873160</td>\n      <td>8.820559</td>\n      <td>49.872932</td>\n      <td>43.0</td>\n    </tr>\n    <tr>\n      <th>795101</th>\n      <td>1589847918</td>\n      <td>1589847918</td>\n      <td>0</td>\n      <td>0.0</td>\n      <td>0.0</td>\n      <td>10.936566</td>\n      <td>50.250225</td>\n      <td>10.936698</td>\n      <td>50.250175</td>\n      <td>11.0</td>\n    </tr>\n    <tr>\n      <th>795103</th>\n      <td>1589848036</td>\n      <td>1589847978</td>\n      <td>0</td>\n      <td>0.0</td>\n      <td>0.0</td>\n      <td>10.936606</td>\n      <td>50.250244</td>\n      <td>10.936566</td>\n      <td>50.250225</td>\n      <td>4.0</td>\n    </tr>\n    <tr>\n      <th>795104</th>\n      <td>1589848095</td>\n      <td>1589848036</td>\n      <td>0</td>\n      <td>0.0</td>\n      <td>0.0</td>\n      <td>10.936689</td>\n      <td>50.250160</td>\n      <td>10.936606</td>\n      <td>50.250244</td>\n      <td>11.0</td>\n    </tr>\n    <tr>\n      <th>795105</th>\n      <td>1589848156</td>\n      <td>1589848096</td>\n      <td>0</td>\n      <td>0.0</td>\n      <td>0.0</td>\n      <td>10.936717</td>\n      <td>50.250202</td>\n      <td>10.936689</td>\n      <td>50.250160</td>\n      <td>5.0</td>\n    </tr>\n    <tr>\n      <th>795106</th>\n      <td>1589848216</td>\n      <td>1589848159</td>\n      <td>0</td>\n      <td>0.0</td>\n      <td>0.0</td>\n      <td>10.936621</td>\n      <td>50.250195</td>\n      <td>10.936717</td>\n      <td>50.250202</td>\n      <td>7.0</td>\n    </tr>\n    <tr>\n      <th>795107</th>\n      <td>1589848276</td>\n      <td>1589848216</td>\n      <td>0</td>\n      <td>0.0</td>\n      <td>0.0</td>\n      <td>10.936733</td>\n      <td>50.250183</td>\n      <td>10.936621</td>\n      <td>50.250195</td>\n      <td>8.0</td>\n    </tr>\n    <tr>\n      <th>795108</th>\n      <td>1589848337</td>\n      <td>1589848278</td>\n      <td>0</td>\n      <td>0.0</td>\n      <td>0.0</td>\n      <td>10.936604</td>\n      <td>50.250190</td>\n      <td>10.936733</td>\n      <td>50.250183</td>\n      <td>9.0</td>\n    </tr>\n    <tr>\n      <th>795109</th>\n      <td>1589848396</td>\n      <td>1589848337</td>\n      <td>0</td>\n      <td>0.0</td>\n      <td>NaN</td>\n      <td>10.936708</td>\n      <td>50.250180</td>\n      <td>10.936604</td>\n      <td>50.250190</td>\n      <td>7.0</td>\n    </tr>\n    <tr>\n      <th>795114</th>\n      <td>1589848758</td>\n      <td>1589848698</td>\n      <td>0</td>\n      <td>0.0</td>\n      <td>0.0</td>\n      <td>10.936611</td>\n      <td>50.250175</td>\n      <td>10.936615</td>\n      <td>50.250164</td>\n      <td>1.0</td>\n    </tr>\n    <tr>\n      <th>795115</th>\n      <td>1589848818</td>\n      <td>1589848758</td>\n      <td>0</td>\n      <td>0.0</td>\n      <td>0.0</td>\n      <td>10.936613</td>\n      <td>50.250183</td>\n      <td>10.936611</td>\n      <td>50.250175</td>\n      <td>1.0</td>\n    </tr>\n    <tr>\n      <th>795119</th>\n      <td>1589849057</td>\n      <td>1589848998</td>\n      <td>0</td>\n      <td>0.0</td>\n      <td>NaN</td>\n      <td>10.936615</td>\n      <td>50.250190</td>\n      <td>10.936611</td>\n      <td>50.250195</td>\n      <td>1.0</td>\n    </tr>\n    <tr>\n      <th>795125</th>\n      <td>1589849359</td>\n      <td>1589849324</td>\n      <td>0</td>\n      <td>0.0</td>\n      <td>0.0</td>\n      <td>10.936708</td>\n      <td>50.250164</td>\n      <td>10.936621</td>\n      <td>50.250195</td>\n      <td>7.0</td>\n    </tr>\n    <tr>\n      <th>795126</th>\n      <td>1589849418</td>\n      <td>1589849359</td>\n      <td>0</td>\n      <td>0.0</td>\n      <td>0.0</td>\n      <td>10.936624</td>\n      <td>50.250200</td>\n      <td>10.936708</td>\n      <td>50.250164</td>\n      <td>7.0</td>\n    </tr>\n    <tr>\n      <th>795127</th>\n      <td>1589849478</td>\n      <td>1589849419</td>\n      <td>0</td>\n      <td>0.0</td>\n      <td>0.0</td>\n      <td>10.936624</td>\n      <td>50.250195</td>\n      <td>10.936624</td>\n      <td>50.250200</td>\n      <td>1.0</td>\n    </tr>\n    <tr>\n      <th>795128</th>\n      <td>1589849528</td>\n      <td>1589849528</td>\n      <td>0</td>\n      <td>0.0</td>\n      <td>0.0</td>\n      <td>10.936758</td>\n      <td>50.250217</td>\n      <td>10.936624</td>\n      <td>50.250195</td>\n      <td>10.0</td>\n    </tr>\n    <tr>\n      <th>795130</th>\n      <td>1589849598</td>\n      <td>1589849539</td>\n      <td>0</td>\n      <td>0.0</td>\n      <td>0.0</td>\n      <td>10.936625</td>\n      <td>50.250202</td>\n      <td>10.936758</td>\n      <td>50.250217</td>\n      <td>10.0</td>\n    </tr>\n    <tr>\n      <th>795133</th>\n      <td>1589849822</td>\n      <td>1589849820</td>\n      <td>0</td>\n      <td>0.0</td>\n      <td>0.0</td>\n      <td>10.936722</td>\n      <td>50.250156</td>\n      <td>10.936623</td>\n      <td>50.250202</td>\n      <td>9.0</td>\n    </tr>\n    <tr>\n      <th>795134</th>\n      <td>1589850025</td>\n      <td>1589850023</td>\n      <td>0</td>\n      <td>0.0</td>\n      <td>0.0</td>\n      <td>10.936696</td>\n      <td>50.250156</td>\n      <td>10.936722</td>\n      <td>50.250156</td>\n      <td>2.0</td>\n    </tr>\n    <tr>\n      <th>795135</th>\n      <td>1589850188</td>\n      <td>1589850187</td>\n      <td>0</td>\n      <td>0.0</td>\n      <td>0.0</td>\n      <td>10.936733</td>\n      <td>50.250137</td>\n      <td>10.936696</td>\n      <td>50.250156</td>\n      <td>3.0</td>\n    </tr>\n    <tr>\n      <th>795136</th>\n      <td>1589850362</td>\n      <td>1589850361</td>\n      <td>0</td>\n      <td>0.0</td>\n      <td>0.0</td>\n      <td>10.936733</td>\n      <td>50.250183</td>\n      <td>10.936733</td>\n      <td>50.250137</td>\n      <td>5.0</td>\n    </tr>\n    <tr>\n      <th>795137</th>\n      <td>1589850522</td>\n      <td>1589850520</td>\n      <td>0</td>\n      <td>0.0</td>\n      <td>NaN</td>\n      <td>10.936737</td>\n      <td>50.250170</td>\n      <td>10.936733</td>\n      <td>50.250183</td>\n      <td>1.0</td>\n    </tr>\n    <tr>\n      <th>795140</th>\n      <td>1589851039</td>\n      <td>1589851037</td>\n      <td>0</td>\n      <td>0.0</td>\n      <td>0.0</td>\n      <td>10.936709</td>\n      <td>50.250220</td>\n      <td>10.936739</td>\n      <td>50.250156</td>\n      <td>7.0</td>\n    </tr>\n    <tr>\n      <th>795141</th>\n      <td>1589851207</td>\n      <td>1589851205</td>\n      <td>0</td>\n      <td>0.0</td>\n      <td>0.0</td>\n      <td>10.936710</td>\n      <td>50.250170</td>\n      <td>10.936709</td>\n      <td>50.250220</td>\n      <td>6.0</td>\n    </tr>\n    <tr>\n      <th>795142</th>\n      <td>1589851383</td>\n      <td>1589851383</td>\n      <td>0</td>\n      <td>0.0</td>\n      <td>0.0</td>\n      <td>10.936761</td>\n      <td>50.250160</td>\n      <td>10.936710</td>\n      <td>50.250170</td>\n      <td>4.0</td>\n    </tr>\n    <tr>\n      <th>795143</th>\n      <td>1589851538</td>\n      <td>1589851536</td>\n      <td>0</td>\n      <td>0.0</td>\n      <td>0.0</td>\n      <td>10.936842</td>\n      <td>50.250248</td>\n      <td>10.936761</td>\n      <td>50.250160</td>\n      <td>11.0</td>\n    </tr>\n    <tr>\n      <th>795144</th>\n      <td>1589851706</td>\n      <td>1589851705</td>\n      <td>0</td>\n      <td>0.0</td>\n      <td>0.0</td>\n      <td>10.936717</td>\n      <td>50.250237</td>\n      <td>10.936842</td>\n      <td>50.250248</td>\n      <td>9.0</td>\n    </tr>\n    <tr>\n      <th>795145</th>\n      <td>1589851864</td>\n      <td>1589851864</td>\n      <td>0</td>\n      <td>0.0</td>\n      <td>0.0</td>\n      <td>10.936706</td>\n      <td>50.250145</td>\n      <td>10.936717</td>\n      <td>50.250237</td>\n      <td>10.0</td>\n    </tr>\n    <tr>\n      <th>795148</th>\n      <td>1589852013</td>\n      <td>1589852011</td>\n      <td>0</td>\n      <td>0.0</td>\n      <td>NaN</td>\n      <td>10.936759</td>\n      <td>50.250280</td>\n      <td>10.936706</td>\n      <td>50.250145</td>\n      <td>15.0</td>\n    </tr>\n    <tr>\n      <th>795151</th>\n      <td>1589852315</td>\n      <td>1589852314</td>\n      <td>0</td>\n      <td>0.0</td>\n      <td>0.0</td>\n      <td>10.936721</td>\n      <td>50.250150</td>\n      <td>10.936759</td>\n      <td>50.250280</td>\n      <td>15.0</td>\n    </tr>\n    <tr>\n      <th>795152</th>\n      <td>1589852466</td>\n      <td>1589852464</td>\n      <td>0</td>\n      <td>0.0</td>\n      <td>0.0</td>\n      <td>10.936797</td>\n      <td>50.250280</td>\n      <td>10.936721</td>\n      <td>50.250150</td>\n      <td>15.0</td>\n    </tr>\n    <tr>\n      <th>795153</th>\n      <td>1589852620</td>\n      <td>1589852619</td>\n      <td>0</td>\n      <td>0.0</td>\n      <td>0.0</td>\n      <td>10.936752</td>\n      <td>50.250190</td>\n      <td>10.936797</td>\n      <td>50.250280</td>\n      <td>11.0</td>\n    </tr>\n    <tr>\n      <th>795154</th>\n      <td>1589852793</td>\n      <td>1589852791</td>\n      <td>0</td>\n      <td>0.0</td>\n      <td>0.0</td>\n      <td>10.936664</td>\n      <td>50.250095</td>\n      <td>10.936752</td>\n      <td>50.250190</td>\n      <td>12.0</td>\n    </tr>\n    <tr>\n      <th>795155</th>\n      <td>1589852949</td>\n      <td>1589852948</td>\n      <td>0</td>\n      <td>0.0</td>\n      <td>NaN</td>\n      <td>10.936705</td>\n      <td>50.250134</td>\n      <td>10.936664</td>\n      <td>50.250095</td>\n      <td>5.0</td>\n    </tr>\n    <tr>\n      <th>795158</th>\n      <td>1589853438</td>\n      <td>1589853436</td>\n      <td>0</td>\n      <td>0.0</td>\n      <td>0.0</td>\n      <td>10.936704</td>\n      <td>50.250250</td>\n      <td>10.936729</td>\n      <td>50.250237</td>\n      <td>2.0</td>\n    </tr>\n    <tr>\n      <th>795159</th>\n      <td>1589853607</td>\n      <td>1589853605</td>\n      <td>0</td>\n      <td>0.0</td>\n      <td>0.0</td>\n      <td>10.936708</td>\n      <td>50.250153</td>\n      <td>10.936704</td>\n      <td>50.250250</td>\n      <td>11.0</td>\n    </tr>\n    <tr>\n      <th>795160</th>\n      <td>1589853782</td>\n      <td>1589853781</td>\n      <td>0</td>\n      <td>0.0</td>\n      <td>0.0</td>\n      <td>10.936688</td>\n      <td>50.250140</td>\n      <td>10.936708</td>\n      <td>50.250153</td>\n      <td>2.0</td>\n    </tr>\n    <tr>\n      <th>795161</th>\n      <td>1589853968</td>\n      <td>1589853968</td>\n      <td>0</td>\n      <td>0.0</td>\n      <td>0.0</td>\n      <td>10.936710</td>\n      <td>50.250217</td>\n      <td>10.936688</td>\n      <td>50.250140</td>\n      <td>9.0</td>\n    </tr>\n  </tbody>\n</table>\n</div>"
                    },
                    "metadata": {},
                    "execution_count": 36
                }
            ],
            "source": [
                "import pandas as pd\n",
                "pd.options.display.max_columns = None\n",
                "df_pandas['STIME_SEC LTIME_SEC SPEED LAG_GPS_SPEED LEAD_GPS_SPEED LON LAT LAG_GPS_LON LAG_GPS_LAT DISTANCE'.split()].loc[df_pandas['DISTANCE'] > 0].sort_values(['STIME_SEC', 'LTIME_SEC']).head(50)"
            ]
        },
        {
            "cell_type": "code",
            "execution_count": 42,
            "metadata": {},
            "outputs": [
                {
                    "output_type": "stream",
                    "name": "stdout",
                    "text": [
                        "+----------+----------+-----+-------------+--------------+----------+---------+-----------+-----------+--------+\n| STIME_SEC| LTIME_SEC|SPEED|LAG_GPS_SPEED|LEAD_GPS_SPEED|       LON|      LAT|LAG_GPS_LON|LAG_GPS_LAT|DISTANCE|\n+----------+----------+-----+-------------+--------------+----------+---------+-----------+-----------+--------+\n|1588962581|1588962580|    0|            0|             0| 7.0153804| 49.21558|  7.0153723|  49.215576|       1|\n|1588972809|1588972809|    0|            0|          null| 7.0153785|49.215588|  7.0153804|   49.21558|       1|\n|1588974538|1588974538|    0|            0|             0| 7.0154314|49.215576|  7.0153785|  49.215588|       4|\n|1589260532|1589260532|   10|           29|            10|  8.037268|50.880848|   8.037233|   50.88163|      87|\n|1589260533|1589260532|   10|           10|            48|  8.037258| 50.88083|   8.037268|  50.880848|       2|\n|1589260563|1589260563|   48|           10|             0|  8.035996| 50.87987|   8.037258|   50.88083|     139|\n|1589260594|1589260594|    0|           48|             1|  8.032504|50.877907|   8.035996|   50.87987|     328|\n|1589261400|1589261400|    0|            1|             0|  8.106959| 50.81806|   8.032504|  50.877903|    8462|\n|1589261430|1589261414|   58|            0|          null|  8.098655|50.814175|   8.106959|   50.81806|     726|\n|1589261490|1589261475|   50|           49|          null|  8.089755|50.807724|   8.090233|  50.809315|     180|\n|1589262081|1589262065|    0|           64|          null|  8.089754|50.802036|   8.088505|  50.803795|     214|\n|1589444001|1589444000|    0|            0|             0|  8.820222|49.873123|   8.822462|  49.868507|     538|\n|1589444318|1589444302|    0|           17|          null|  8.820067| 49.87316|  8.8205595|  49.872932|      43|\n|1589847918|1589847918|    0|            0|             0| 10.936566|50.250225|  10.936698|  50.250175|      11|\n|1589848036|1589847978|    0|            0|             0| 10.936606|50.250244|  10.936566|  50.250225|       4|\n|1589848095|1589848036|    0|            0|             0| 10.936689| 50.25016|  10.936606|  50.250244|      11|\n|1589848156|1589848096|    0|            0|             0| 10.936717|50.250202|  10.936689|   50.25016|       5|\n|1589848216|1589848159|    0|            0|             0| 10.936621|50.250195|  10.936717|  50.250202|       7|\n|1589848276|1589848216|    0|            0|             0| 10.936733|50.250183|  10.936621|  50.250195|       8|\n|1589848337|1589848278|    0|            0|             0|10.9366045| 50.25019|  10.936733|  50.250183|       9|\n|1589848396|1589848337|    0|            0|          null| 10.936708| 50.25018| 10.9366045|   50.25019|       7|\n|1589848758|1589848698|    0|            0|             0| 10.936611|50.250175|  10.936615|  50.250164|       1|\n|1589848818|1589848758|    0|            0|             0| 10.936613|50.250183|  10.936611|  50.250175|       1|\n|1589849057|1589848998|    0|            0|          null| 10.936615| 50.25019|  10.936611|  50.250195|       1|\n|1589849359|1589849324|    0|            0|             0|10.9367075|50.250164|  10.936621|  50.250195|       7|\n|1589849418|1589849359|    0|            0|             0| 10.936624|  50.2502| 10.9367075|  50.250164|       7|\n|1589849478|1589849419|    0|            0|             0| 10.936624|50.250195|  10.936624|    50.2502|       1|\n|1589849528|1589849528|    0|            0|             0| 10.936758|50.250217|  10.936624|  50.250195|      10|\n|1589849598|1589849539|    0|            0|             0| 10.936625|50.250202|  10.936758|  50.250217|      10|\n|1589849822|1589849820|    0|            0|             0| 10.936722|50.250156|  10.936623|  50.250202|       9|\n|1589850025|1589850023|    0|            0|             0| 10.936696|50.250156|  10.936722|  50.250156|       2|\n|1589850188|1589850187|    0|            0|             0| 10.936733|50.250137|  10.936696|  50.250156|       3|\n|1589850362|1589850361|    0|            0|             0| 10.936733|50.250183|  10.936733|  50.250137|       5|\n|1589850522|1589850520|    0|            0|          null| 10.936737| 50.25017|  10.936733|  50.250183|       1|\n|1589851039|1589851037|    0|            0|             0| 10.936709| 50.25022|  10.936739|  50.250156|       7|\n|1589851207|1589851205|    0|            0|             0|  10.93671| 50.25017|  10.936709|   50.25022|       6|\n|1589851383|1589851383|    0|            0|             0| 10.936761| 50.25016|   10.93671|   50.25017|       4|\n|1589851538|1589851536|    0|            0|             0| 10.936842|50.250248|  10.936761|   50.25016|      11|\n|1589851706|1589851705|    0|            0|             0| 10.936717|50.250237|  10.936842|  50.250248|       9|\n|1589851864|1589851864|    0|            0|             0| 10.936706|50.250145|  10.936717|  50.250237|      10|\n|1589852013|1589852011|    0|            0|          null| 10.936759| 50.25028|  10.936706|  50.250145|      15|\n|1589852315|1589852314|    0|            0|             0| 10.936721| 50.25015|  10.936759|   50.25028|      15|\n|1589852466|1589852464|    0|            0|             0| 10.936797| 50.25028|  10.936721|   50.25015|      15|\n|1589852620|1589852619|    0|            0|             0| 10.936752| 50.25019|  10.936797|   50.25028|      11|\n|1589852793|1589852791|    0|            0|             0| 10.936664|50.250095|  10.936752|   50.25019|      12|\n|1589852949|1589852948|    0|            0|          null| 10.936705|50.250134|  10.936664|  50.250095|       5|\n|1589853438|1589853436|    0|            0|             0| 10.936704| 50.25025|  10.936729|  50.250237|       2|\n|1589853607|1589853605|    0|            0|             0| 10.936708|50.250153|  10.936704|   50.25025|      11|\n|1589853782|1589853781|    0|            0|             0| 10.936688| 50.25014|  10.936708|  50.250153|       2|\n|1589853968|1589853968|    0|            0|             0|  10.93671|50.250217|  10.936688|   50.25014|       9|\n+----------+----------+-----+-------------+--------------+----------+---------+-----------+-----------+--------+\nonly showing top 50 rows\n\n"
                    ]
                }
            ],
            "source": [
                "(df_gps_delay\n",
                "    .select('STIME_SEC LTIME_SEC SPEED LAG_GPS_SPEED LEAD_GPS_SPEED LON LAT LAG_GPS_LON LAG_GPS_LAT DISTANCE'.split())\n",
                "    .filter(F.col('DISTANCE') > 0)\n",
                "    .orderBy(['STIME_SEC', 'LTIME_SEC'])\n",
                "    .show(50)\n",
                ")"
            ]
        },
        {
            "cell_type": "code",
            "execution_count": 45,
            "metadata": {},
            "outputs": [
                {
                    "output_type": "stream",
                    "name": "stdout",
                    "text": [
                        "+----------+----------+-----+-------------+--------------+--------+---------+-----------+-----------+--------+\n| STIME_SEC| LTIME_SEC|SPEED|LAG_GPS_SPEED|LEAD_GPS_SPEED|     LON|      LAT|LAG_GPS_LON|LAG_GPS_LAT|DISTANCE|\n+----------+----------+-----+-------------+--------------+--------+---------+-----------+-----------+--------+\n|1589260503|1589260503|   29|         null|            10|8.037233| 50.88163|       null|       null|    null|\n|1589260532|1589260532|   10|           29|            10|8.037268|50.880848|   8.037233|   50.88163|      87|\n+----------+----------+-----+-------------+--------------+--------+---------+-----------+-----------+--------+\n\n"
                    ]
                }
            ],
            "source": [
                "(df_gps_delay\n",
                "    .select('STIME_SEC LTIME_SEC SPEED LAG_GPS_SPEED LEAD_GPS_SPEED LON LAT LAG_GPS_LON LAG_GPS_LAT     DISTANCE'.split())\n",
                "    .filter((F.col('LAT') == 50.88163) & \n",
                "            (F.col('LON') == 8.037233) |\n",
                "            (F.col('LAG_GPS_LAT') == 8.037233) |\n",
                "            (F.col('LAG_GPS_LON') == 8.037233))\n",
                "    .show()\n",
                ")"
            ]
        },
        {
            "cell_type": "code",
            "execution_count": null,
            "metadata": {},
            "outputs": [],
            "source": [
                "(df_gps_delay\n",
                "    .select('STIME_SEC LTIME_SEC SPEED LAG_GPS_SPEED LEAD_GPS_SPEED LON LAT LAG_GPS_LON LAG_GPS_LAT     DISTANCE'.split())\n",
                "    .filter((F.col('LAT') == 50.88163) & (F.col('LON') == 8.037233))\n",
                "    .show()\n",
                ")"
            ]
        },
        {
            "cell_type": "code",
            "execution_count": 37,
            "metadata": {},
            "outputs": [
                {
                    "output_type": "execute_result",
                    "data": {
                        "text/plain": [
                            "\"\\ndf_prev_speed = (\\n    df_join_sec.withColumn('PREVIOUS_GPS_SPEED',\\n        F.when(\\n            (F.col('STIME_SEC') - F.lag(F.col('STIME_SEC')).over(window_spec)).between(0, 900) &\\n            (F.col('STIME_SEC') - F.col('LTIME_SEC')).between(0, 180) &\\n            ((F.lag(F.col('STIME_SEC'))).over(window_spec) -\\n                F.lag(F.col('LTIME_SEC')).over(window_spec))\\n                .between(0, 180),\\n            F.lag(F.col('SPEED')).over(window_spec)\\n        ).otherwise(F.lit(None))).cache())\\n\""
                        ]
                    },
                    "metadata": {},
                    "execution_count": 37
                }
            ],
            "source": [
                "'''\n",
                "df_prev_speed = (\n",
                "    df_join_sec.withColumn('PREVIOUS_GPS_SPEED',\n",
                "        F.when(\n",
                "            (F.col('STIME_SEC') - F.lag(F.col('STIME_SEC')).over(window_spec)).between(0, 900) &\n",
                "            (F.col('STIME_SEC') - F.col('LTIME_SEC')).between(0, 180) &\n",
                "            ((F.lag(F.col('STIME_SEC'))).over(window_spec) -\n",
                "                F.lag(F.col('LTIME_SEC')).over(window_spec))\n",
                "                .between(0, 180),\n",
                "            F.lag(F.col('SPEED')).over(window_spec)\n",
                "        ).otherwise(F.lit(None))).cache())\n",
                "'''"
            ]
        },
        {
            "cell_type": "code",
            "execution_count": 38,
            "metadata": {},
            "outputs": [
                {
                    "output_type": "execute_result",
                    "data": {
                        "text/plain": [
                            "\"\\ndef getLagOrLeadGps(df, lag_or_lead, speed_time_activity_distance, window_spec):\\n    name = f'{lag_or_lead}_GPS_{speed_or_time_or_activity}'\\n    if lag_or_lead == 'LAG':\\n        condition = getWindowConditionLagGps(window_spec)\\n        if speed_or_time_or_activity == 'TIME':\\n            result = getWindowResultLagGpsTime(window_spec)\\n        elif speed_or_time_or_activity == 'SPEED':\\n            result = getWindowResultGpsSpeed(window_spec, F.lag)\\n        elif speed_or_time_or_activity == 'ACTIVITY':\\n            condition = getWindowConditionLagGpsActivity(window_spec)\\n            result = getWindowResultGpsActivity(window_spec, F.lag)\\n            \\n    elif lag_or_lead == 'LEAD':\\n        condition = getWindowConditionLeadGps(window_spec)\\n        if speed_or_time_or_activity == 'TIME':\\n            result = getWindowResultLeadGpsTime(window_spec)\\n        elif speed_or_time_or_activity == 'SPEED':\\n            result = getWindowResultGpsSpeed(window_spec, F.lead)\\n        elif speed_or_time_or_activity == 'ACTIVITY':\\n            condition = getWindowConditionLeadGpsActivity(window_spec)\\n            result = getWindowResultGpsActivity(window_spec, F.lead)\\n        \\n    return (\\n    df.withColumn(name,\\n        F.when(condition, result)\\n            .otherwise(F.lit(None))\\n        ).cache()\\n    ) \\n\""
                        ]
                    },
                    "metadata": {},
                    "execution_count": 38
                }
            ],
            "source": [
                "'''\n",
                "def getLagOrLeadGps(df, lag_or_lead, speed_time_activity_distance, window_spec):\n",
                "    name = f'{lag_or_lead}_GPS_{speed_or_time_or_activity}'\n",
                "    if lag_or_lead == 'LAG':\n",
                "        condition = getWindowConditionLagGps(window_spec)\n",
                "        if speed_or_time_or_activity == 'TIME':\n",
                "            result = getWindowResultLagGpsTime(window_spec)\n",
                "        elif speed_or_time_or_activity == 'SPEED':\n",
                "            result = getWindowResultGpsSpeed(window_spec, F.lag)\n",
                "        elif speed_or_time_or_activity == 'ACTIVITY':\n",
                "            condition = getWindowConditionLagGpsActivity(window_spec)\n",
                "            result = getWindowResultGpsActivity(window_spec, F.lag)\n",
                "            \n",
                "    elif lag_or_lead == 'LEAD':\n",
                "        condition = getWindowConditionLeadGps(window_spec)\n",
                "        if speed_or_time_or_activity == 'TIME':\n",
                "            result = getWindowResultLeadGpsTime(window_spec)\n",
                "        elif speed_or_time_or_activity == 'SPEED':\n",
                "            result = getWindowResultGpsSpeed(window_spec, F.lead)\n",
                "        elif speed_or_time_or_activity == 'ACTIVITY':\n",
                "            condition = getWindowConditionLeadGpsActivity(window_spec)\n",
                "            result = getWindowResultGpsActivity(window_spec, F.lead)\n",
                "        \n",
                "    return (\n",
                "    df.withColumn(name,\n",
                "        F.when(condition, result)\n",
                "            .otherwise(F.lit(None))\n",
                "        ).cache()\n",
                "    ) \n",
                "'''"
            ]
        }
    ],
    "metadata": {
        "kernelspec": {
            "display_name": "Python 3",
            "language": "python",
            "name": "python3"
        },
        "language_info": {
            "codemirror_mode": {
                "name": "ipython",
                "version": 3
            },
            "file_extension": ".py",
            "mimetype": "text/x-python",
            "name": "python",
            "nbconvert_exporter": "python",
            "pygments_lexer": "ipython3",
            "version": "3.8.5-final"
        }
    },
    "nbformat": 4,
    "nbformat_minor": 4
}