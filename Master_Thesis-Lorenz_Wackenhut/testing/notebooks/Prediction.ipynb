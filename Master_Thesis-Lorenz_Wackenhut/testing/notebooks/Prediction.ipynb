{
    "cells": [
        {
            "cell_type": "code",
            "execution_count": 77,
            "metadata": {},
            "outputs": [],
            "source": [
                "import pyspark\n",
                "from pyspark.sql.types import *\n",
                "from pyspark import SparkContext\n",
                "from pyspark.sql import SparkSession\n",
                "from pyspark.sql import SQLContext\n",
                "import pyspark.sql.functions as F\n",
                "from pyspark.ml.pipeline import PipelineModel\n",
                "import pyspark.ml.feature as ML\n",
                "from pyspark.ml import Pipeline\n",
                "from pyspark.ml.classification import RandomForestClassificationModel"
            ]
        },
        {
            "cell_type": "code",
            "execution_count": 78,
            "metadata": {},
            "outputs": [],
            "source": [
                "account_name = \"REDACTED\"\n",
                "account_key = \"REDACTED\"\n",
                "\n",
                "spark = (\n",
                "    SparkSession\n",
                "        .builder\n",
                "        .master('local[*]')\n",
                "        .appName(\"Ingestion\")\n",
                "        .config(\"spark.driver.memory\", \"4g\")\n",
                "        .config(\"fs.azure.account.auth.type.\" + account_name + \".dfs.core.windows.net\", \"SharedKey\")\n",
                "        .config(\"fs.azure.account.key.\" + account_name + \".dfs.core.windows.net\", account_key)\n",
                "        .getOrCreate()\n",
                ")\n",
                "\n",
                "sc = spark.sparkContext"
            ]
        },
        {
            "cell_type": "code",
            "execution_count": 79,
            "metadata": {},
            "outputs": [],
            "source": [
                "container_name = 'data'\n",
                "path_to_table = '/features/'\n",
                "\n",
                "def readDataframeFromAdls(spark_session, container_name, path_to_table, table_name):\n",
                "    return (\n",
                "        spark_session\n",
                "            .read.parquet(f\"abfss://{container_name}@REDACTED.dfs.core.windows.net{path_to_table}{table_name}\")\n",
                "    )"
            ]
        },
        {
            "cell_type": "code",
            "execution_count": 80,
            "metadata": {},
            "outputs": [],
            "source": [
                "df_features = readDataframeFromAdls(spark, container_name, path_to_table, 'df_features').drop('ID_FILE', 'ID_STATE', 'DAY', 'MONTH', 'YEAR', 'STIME', 'STIME_SEC', 'LTIME', 'LON', 'LAT', 'LTIME_SEC', 'SLOT', 'LAG_LAT', 'LAG_LON', 'WEEKDAY', 'HOUR')"
            ]
        },
        {
            "cell_type": "code",
            "execution_count": 81,
            "metadata": {},
            "outputs": [],
            "source": [
                "path = '/model/'\n",
                "name = 'rfc_model'\n",
                "rfc_model = RandomForestClassificationModel.load(f\"abfss://{container_name}@REDACTED.dfs.core.windows.net{path}{name}\")"
            ]
        },
        {
            "cell_type": "code",
            "execution_count": 82,
            "metadata": {},
            "outputs": [],
            "source": [
                "df_duplicates = df_features.drop_duplicates()"
            ]
        },
        {
            "cell_type": "code",
            "execution_count": 83,
            "metadata": {},
            "outputs": [],
            "source": [
                "types = ['GSM','LTE','UNKNOWN','WCDMA']\n",
                "gps_sources = ['FUSED', 'GPS','NET']\n",
                "stypes = ['LOCATION' ,'NF_BOOST_TECHNOLOGY', 'NF_SERVICE', 'NF_BOOST_COVERAGE','TIMER', 'WORKER','UNKNOWN']\n",
                "battery_states = ['CHARGING' ,'FULL', 'NOT_CHARGING','UNCHARGING', 'UNKNOWN']\n",
                "activity_states = ['IN_VEHICLE','ON_BICYCLE','ON_FOOT','STILL','TILTING','WALKING', 'UNKNOWN']\n",
                "times_of_day = ['MORNING', 'AFTERNOON', 'NIGHT']"
            ]
        },
        {
            "cell_type": "code",
            "execution_count": 84,
            "metadata": {},
            "outputs": [],
            "source": [
                "def filterCategoricalFeatures(df, column_name, feature_list, else_value='UNKNOWN'):\n",
                "    return (\n",
                "        df.withColumn(column_name, \n",
                "            F.when(F.col(column_name).isin(feature_list), F.col(column_name))\n",
                "            .otherwise(F.lit(else_value))\n",
                "        )\n",
                "    )"
            ]
        },
        {
            "cell_type": "code",
            "execution_count": 85,
            "metadata": {},
            "outputs": [],
            "source": [
                "df_activity = filterCategoricalFeatures(df_duplicates, 'ACTIVITY_STATE', activity_states)\n",
                "df_lag_activity = filterCategoricalFeatures(df_activity, 'LAG_ACTIVITY', activity_states)\n",
                "df_lead_activity = filterCategoricalFeatures(df_lag_activity, 'LEAD_ACTIVITY', activity_states)\n",
                "df_battery = filterCategoricalFeatures(df_lead_activity, 'BATT_CHARGE', battery_states)\n",
                "df_stypes = filterCategoricalFeatures(df_battery, 'STYPE', stypes)\n",
                "df_source = filterCategoricalFeatures(df_stypes, 'SOURCE', gps_sources)\n",
                "df_types = filterCategoricalFeatures(df_source, 'TYPE', types)\n",
                "df_time_day = filterCategoricalFeatures(df_types, 'TIME_DAY', times_of_day)"
            ]
        },
        {
            "cell_type": "code",
            "execution_count": 86,
            "metadata": {},
            "outputs": [],
            "source": [
                "df_cast = (\n",
                "    df_time_day\n",
                "        .withColumn('WIFI_CONNECTED_INT', F.col('WIFI_CONNECTED').cast('int'))\n",
                "        .drop('WIFI_CONNECTED')\n",
                ")"
            ]
        },
        {
            "cell_type": "code",
            "execution_count": 87,
            "metadata": {},
            "outputs": [],
            "source": [
                "df_fill_categories = (\n",
                "    df_cast\n",
                "        .fillna('UNKNOWN', \n",
                "                subset=['ACTIVITY_STATE', 'LAG_ACTIVITY', 'LEAD_ACTIVITY', 'BATT_CHARGE', 'STYPE', 'SOURCE', 'TYPE'])\n",
                ")\n",
                "\n",
                "df_fill_numerical = (\n",
                "    df_fill_categories\n",
                "        .fillna(-1)\n",
                ")"
            ]
        },
        {
            "cell_type": "code",
            "execution_count": 88,
            "metadata": {},
            "outputs": [
                {
                    "output_type": "execute_result",
                    "data": {
                        "text/plain": [
                            "['ACCURACY',\n",
                            " 'ACTIVITY_CONFID',\n",
                            " 'ACTIVITY_STATE',\n",
                            " 'BATT_CHARGE',\n",
                            " 'DISTANCE',\n",
                            " 'GPS_DELAY',\n",
                            " 'LAG_ACTIVITY',\n",
                            " 'LAG_LTIME',\n",
                            " 'LAG_SPEED',\n",
                            " 'LEAD_ACTIVITY',\n",
                            " 'LEAD_LTIME',\n",
                            " 'LEAD_SPEED',\n",
                            " 'LEVEL',\n",
                            " 'LEVEL_MW',\n",
                            " 'LIGHT',\n",
                            " 'MAGNET_X',\n",
                            " 'MAGNET_Y',\n",
                            " 'MAGNET_Z',\n",
                            " 'PROXIMITY',\n",
                            " 'QUAL',\n",
                            " 'SOURCE',\n",
                            " 'SPEED',\n",
                            " 'STYPE',\n",
                            " 'TIME_DAY',\n",
                            " 'TYPE',\n",
                            " 'WEEKEND',\n",
                            " 'WIFI_CONNECTED_INT']"
                        ]
                    },
                    "metadata": {},
                    "execution_count": 88
                }
            ],
            "source": [
                "df_sorted = df_fill_numerical.select(sorted(df_fill_numerical.columns))\n",
                "df_sorted.columns"
            ]
        },
        {
            "cell_type": "code",
            "execution_count": 91,
            "metadata": {},
            "outputs": [],
            "source": [
                "string_indexer_input = ['STYPE', 'TYPE','SOURCE','BATT_CHARGE', 'ACTIVITY_STATE', 'LAG_ACTIVITY', 'LEAD_ACTIVITY', 'TIME_DAY']\n",
                "string_indexer_output = [f'{col}_index' for col in string_indexer_input]\n",
                "\n",
                "#one_hot_encoder_input = string_indexer_output + ['WIFI_CONNECTED_INT', 'WEEKEND']\n",
                "one_hot_encoder_input = string_indexer_output\n",
                "one_hot_encoder_output = [f'{col}_one_hot' for col in one_hot_encoder_input]\n",
                "\n",
                "# Get all columns which aren't transformed \n",
                "remaining_cols = list(set(df_sorted.columns) - set(string_indexer_input))\n",
                "# Combine with transformed columns\n",
                "all_columns = remaining_cols +  one_hot_encoder_output\n",
                "# Remove y\n",
                "X_columns = [col for col in all_columns if col not in ['y']]"
            ]
        },
        {
            "cell_type": "code",
            "execution_count": 100,
            "metadata": {},
            "outputs": [],
            "source": [
                "X_columns = ['ACTIVITY_CONFID',\n",
                " 'WEEKEND',\n",
                " 'LEVEL_MW',\n",
                " 'ACCURACY',\n",
                " 'LEAD_LTIME',\n",
                " 'LAG_SPEED',\n",
                " 'LEAD_SPEED',\n",
                " 'LAG_LTIME',\n",
                " 'WIFI_CONNECTED_INT',\n",
                " 'LEVEL',\n",
                " 'QUAL',\n",
                " 'GPS_DELAY',\n",
                " 'SPEED',\n",
                " 'DISTANCE',\n",
                " 'LIGHT',\n",
                " 'MAGNET_X',\n",
                " 'MAGNET_Y',\n",
                " 'MAGNET_Z',\n",
                " 'PROXIMITY',\n",
                " 'STYPE_index_one_hot',\n",
                " 'TYPE_index_one_hot',\n",
                " 'SOURCE_index_one_hot',\n",
                " 'BATT_CHARGE_index_one_hot',\n",
                " 'ACTIVITY_STATE_index_one_hot',\n",
                " 'LAG_ACTIVITY_index_one_hot',\n",
                " 'LEAD_ACTIVITY_index_one_hot',\n",
                " 'TIME_DAY_index_one_hot']"
            ]
        },
        {
            "cell_type": "code",
            "execution_count": 101,
            "metadata": {},
            "outputs": [],
            "source": [
                "string_indexer = (\n",
                "    ML.StringIndexer(\n",
                "        inputCols=string_indexer_input,\n",
                "        outputCols=string_indexer_output,\n",
                "    )\n",
                ")"
            ]
        },
        {
            "cell_type": "code",
            "execution_count": 102,
            "metadata": {},
            "outputs": [],
            "source": [
                "one_hot_encoder = (\n",
                "    ML.OneHotEncoder(\n",
                "        inputCols=one_hot_encoder_input,\n",
                "        outputCols=one_hot_encoder_output,\n",
                "    )\n",
                ")"
            ]
        },
        {
            "cell_type": "code",
            "execution_count": 103,
            "metadata": {},
            "outputs": [],
            "source": [
                "vector_assembler = (\n",
                "    ML.VectorAssembler(\n",
                "        inputCols=X_columns,\n",
                "        outputCol='X'\n",
                "    )\n",
                ")"
            ]
        },
        {
            "cell_type": "code",
            "execution_count": 104,
            "metadata": {},
            "outputs": [],
            "source": [
                "#Create pipeline and pass all stages\n",
                "pipeline = (\n",
                "        Pipeline(\n",
                "                stages=[\n",
                "                       string_indexer,\n",
                "                       one_hot_encoder,\n",
                "                       vector_assembler,\n",
                "                       rfc_model\n",
                "                ]\n",
                "        )\n",
                ")"
            ]
        },
        {
            "cell_type": "code",
            "execution_count": 105,
            "metadata": {},
            "outputs": [],
            "source": [
                "df_transformed = pipeline.fit(df_fill_numerical).transform(df_fill_numerical)"
            ]
        },
        {
            "cell_type": "code",
            "execution_count": 106,
            "metadata": {},
            "outputs": [
                {
                    "output_type": "stream",
                    "name": "stdout",
                    "text": [
                        "+----------+------+\n|prediction| count|\n+----------+------+\n|       1.0|375487|\n|       0.0|413176|\n+----------+------+\n\n"
                    ]
                }
            ],
            "source": [
                "df_transformed.groupBy('prediction').count().orderBy('count').show()"
            ]
        },
        {
            "cell_type": "code",
            "execution_count": 39,
            "metadata": {},
            "outputs": [
                {
                    "output_type": "error",
                    "ename": "AnalysisException",
                    "evalue": "cannot resolve '`LEAD_ACTIVITY_index_one_hot_IN_VEHICLE`' given input columns: [ACCURACY, ACTIVITY_CONFID, ACTIVITY_STATE, ACTIVITY_STATE_index, ACTIVITY_STATE_index_one_hot, BATT_CHARGE, BATT_CHARGE_index, BATT_CHARGE_index_one_hot, DISTANCE, GPS_DELAY, ID_STATE, LAG_ACTIVITY, LAG_ACTIVITY_index, LAG_ACTIVITY_index_one_hot, LAG_LTIME, LAG_SPEED, LEAD_ACTIVITY, LEAD_ACTIVITY_index, LEAD_ACTIVITY_index_one_hot, LEAD_LTIME, LEAD_SPEED, LEVEL, LEVEL_MW, LIGHT, MAGNET_X, MAGNET_Y, MAGNET_Z, PROXIMITY, QUAL, SOURCE, SOURCE_index, SOURCE_index_one_hot, SPEED, STYPE, STYPE_index, STYPE_index_one_hot, TIME_DAY, TIME_DAY_index, TIME_DAY_index_one_hot, TYPE, TYPE_index, TYPE_index_one_hot, WEEKEND, WIFI_CONNECTED_INT, X, prediction, probability, rawPrediction];\n'Aggregate ['LEAD_ACTIVITY_index_one_hot_IN_VEHICLE], ['LEAD_ACTIVITY_index_one_hot_IN_VEHICLE, count(1) AS count#2522L]\n+- Project [ID_STATE#757, STYPE#694, ACTIVITY_STATE#695, ACTIVITY_CONFID#758L, SOURCE#696, SPEED#759L, ACCURACY#760L, TYPE#697, LEVEL#761L, QUAL#762L, LIGHT#763, MAGNET_X#764, MAGNET_Y#765, MAGNET_Z#766, PROXIMITY#767, BATT_CHARGE#698, LAG_SPEED#768L, LEAD_SPEED#769L, LAG_LTIME#770, LEAD_LTIME#771, LAG_ACTIVITY#699, LEAD_ACTIVITY#700, DISTANCE#772, GPS_DELAY#773, ... 24 more fields]\n   +- Project [ID_STATE#757, STYPE#694, ACTIVITY_STATE#695, ACTIVITY_CONFID#758L, SOURCE#696, SPEED#759L, ACCURACY#760L, TYPE#697, LEVEL#761L, QUAL#762L, LIGHT#763, MAGNET_X#764, MAGNET_Y#765, MAGNET_Z#766, PROXIMITY#767, BATT_CHARGE#698, LAG_SPEED#768L, LEAD_SPEED#769L, LAG_LTIME#770, LEAD_LTIME#771, LAG_ACTIVITY#699, LEAD_ACTIVITY#700, DISTANCE#772, GPS_DELAY#773, ... 23 more fields]\n      +- Project [ID_STATE#757, STYPE#694, ACTIVITY_STATE#695, ACTIVITY_CONFID#758L, SOURCE#696, SPEED#759L, ACCURACY#760L, TYPE#697, LEVEL#761L, QUAL#762L, LIGHT#763, MAGNET_X#764, MAGNET_Y#765, MAGNET_Z#766, PROXIMITY#767, BATT_CHARGE#698, LAG_SPEED#768L, LEAD_SPEED#769L, LAG_LTIME#770, LEAD_LTIME#771, LAG_ACTIVITY#699, LEAD_ACTIVITY#700, DISTANCE#772, GPS_DELAY#773, ... 22 more fields]\n         +- Project [ID_STATE#757, STYPE#694, ACTIVITY_STATE#695, ACTIVITY_CONFID#758L, SOURCE#696, SPEED#759L, ACCURACY#760L, TYPE#697, LEVEL#761L, QUAL#762L, LIGHT#763, MAGNET_X#764, MAGNET_Y#765, MAGNET_Z#766, PROXIMITY#767, BATT_CHARGE#698, LAG_SPEED#768L, LEAD_SPEED#769L, LAG_LTIME#770, LEAD_LTIME#771, LAG_ACTIVITY#699, LEAD_ACTIVITY#700, DISTANCE#772, GPS_DELAY#773, ... 21 more fields]\n            +- Project [ID_STATE#757, STYPE#694, ACTIVITY_STATE#695, ACTIVITY_CONFID#758L, SOURCE#696, SPEED#759L, ACCURACY#760L, TYPE#697, LEVEL#761L, QUAL#762L, LIGHT#763, MAGNET_X#764, MAGNET_Y#765, MAGNET_Z#766, PROXIMITY#767, BATT_CHARGE#698, LAG_SPEED#768L, LEAD_SPEED#769L, LAG_LTIME#770, LEAD_LTIME#771, LAG_ACTIVITY#699, LEAD_ACTIVITY#700, DISTANCE#772, GPS_DELAY#773, ... 20 more fields]\n               +- Project [ID_STATE#757, STYPE#694, ACTIVITY_STATE#695, ACTIVITY_CONFID#758L, SOURCE#696, SPEED#759L, ACCURACY#760L, TYPE#697, LEVEL#761L, QUAL#762L, LIGHT#763, MAGNET_X#764, MAGNET_Y#765, MAGNET_Z#766, PROXIMITY#767, BATT_CHARGE#698, LAG_SPEED#768L, LEAD_SPEED#769L, LAG_LTIME#770, LEAD_LTIME#771, LAG_ACTIVITY#699, LEAD_ACTIVITY#700, DISTANCE#772, GPS_DELAY#773, ... 12 more fields]\n                  +- Project [coalesce(ID_STATE#232, cast(-1.0 as int)) AS ID_STATE#757, STYPE#694, ACTIVITY_STATE#695, coalesce(ACTIVITY_CONFID#239L, cast(-1.0 as bigint)) AS ACTIVITY_CONFID#758L, SOURCE#696, coalesce(SPEED#243L, cast(-1.0 as bigint)) AS SPEED#759L, coalesce(ACCURACY#244L, cast(-1.0 as bigint)) AS ACCURACY#760L, TYPE#697, coalesce(LEVEL#249L, cast(-1.0 as bigint)) AS LEVEL#761L, coalesce(QUAL#250L, cast(-1.0 as bigint)) AS QUAL#762L, coalesce(LIGHT#253, cast(-1.0 as int)) AS LIGHT#763, coalesce(nanvl(MAGNET_X#254, cast(null as double)), cast(-1.0 as double)) AS MAGNET_X#764, coalesce(nanvl(MAGNET_Y#255, cast(null as double)), cast(-1.0 as double)) AS MAGNET_Y#765, coalesce(nanvl(MAGNET_Z#256, cast(null as double)), cast(-1.0 as double)) AS MAGNET_Z#766, coalesce(PROXIMITY#257, cast(-1.0 as int)) AS PROXIMITY#767, BATT_CHARGE#698, coalesce(LAG_SPEED#259L, cast(-1.0 as bigint)) AS LAG_SPEED#768L, coalesce(LEAD_SPEED#260L, cast(-1.0 as bigint)) AS LEAD_SPEED#769L, coalesce(LAG_LTIME#261, cast(-1.0 as int)) AS LAG_LTIME#770, coalesce(LEAD_LTIME#262, cast(-1.0 as int)) AS LEAD_LTIME#771, LAG_ACTIVITY#699, LEAD_ACTIVITY#700, coalesce(DISTANCE#267, cast(-1.0 as int)) AS DISTANCE#772, coalesce(GPS_DELAY#268, cast(-1.0 as int)) AS GPS_DELAY#773, ... 4 more fields]\n                     +- Project [ID_STATE#232, coalesce(STYPE#492, cast(UNKNOWN as string)) AS STYPE#694, coalesce(ACTIVITY_STATE#376, cast(UNKNOWN as string)) AS ACTIVITY_STATE#695, ACTIVITY_CONFID#239L, coalesce(SOURCE#521, cast(UNKNOWN as string)) AS SOURCE#696, SPEED#243L, ACCURACY#244L, coalesce(TYPE#550, cast(UNKNOWN as string)) AS TYPE#697, LEVEL#249L, QUAL#250L, LIGHT#253, MAGNET_X#254, MAGNET_Y#255, MAGNET_Z#256, PROXIMITY#257, coalesce(BATT_CHARGE#463, cast(UNKNOWN as string)) AS BATT_CHARGE#698, LAG_SPEED#259L, LEAD_SPEED#260L, LAG_LTIME#261, LEAD_LTIME#262, coalesce(LAG_ACTIVITY#405, cast(UNKNOWN as string)) AS LAG_ACTIVITY#699, coalesce(LEAD_ACTIVITY#434, cast(UNKNOWN as string)) AS LEAD_ACTIVITY#700, DISTANCE#267, GPS_DELAY#268, ... 4 more fields]\n                        +- Project [ID_STATE#232, STYPE#492, ACTIVITY_STATE#376, ACTIVITY_CONFID#239L, SOURCE#521, SPEED#243L, ACCURACY#244L, TYPE#550, LEVEL#249L, QUAL#250L, LIGHT#253, MAGNET_X#254, MAGNET_Y#255, MAGNET_Z#256, PROXIMITY#257, BATT_CHARGE#463, LAG_SPEED#259L, LEAD_SPEED#260L, LAG_LTIME#261, LEAD_LTIME#262, LAG_ACTIVITY#405, LEAD_ACTIVITY#434, DISTANCE#267, GPS_DELAY#268, ... 4 more fields]\n                           +- Project [ID_STATE#232, STYPE#492, ACTIVITY_STATE#376, ACTIVITY_CONFID#239L, SOURCE#521, SPEED#243L, ACCURACY#244L, TYPE#550, LEVEL#249L, QUAL#250L, WIFI_CONNECTED#252, LIGHT#253, MAGNET_X#254, MAGNET_Y#255, MAGNET_Z#256, PROXIMITY#257, BATT_CHARGE#463, LAG_SPEED#259L, LEAD_SPEED#260L, LAG_LTIME#261, LEAD_LTIME#262, LAG_ACTIVITY#405, LEAD_ACTIVITY#434, DISTANCE#267, ... 5 more fields]\n                              +- Project [ID_STATE#232, STYPE#492, ACTIVITY_STATE#376, ACTIVITY_CONFID#239L, SOURCE#521, SPEED#243L, ACCURACY#244L, TYPE#550, LEVEL#249L, QUAL#250L, WIFI_CONNECTED#252, LIGHT#253, MAGNET_X#254, MAGNET_Y#255, MAGNET_Z#256, PROXIMITY#257, BATT_CHARGE#463, LAG_SPEED#259L, LEAD_SPEED#260L, LAG_LTIME#261, LEAD_LTIME#262, LAG_ACTIVITY#405, LEAD_ACTIVITY#434, DISTANCE#267, ... 4 more fields]\n                                 +- Project [ID_STATE#232, STYPE#492, ACTIVITY_STATE#376, ACTIVITY_CONFID#239L, SOURCE#521, SPEED#243L, ACCURACY#244L, CASE WHEN TYPE#248 IN (GSM,LTE,UNKNOWN,WCDMA) THEN TYPE#248 ELSE UNKNOWN END AS TYPE#550, LEVEL#249L, QUAL#250L, WIFI_CONNECTED#252, LIGHT#253, MAGNET_X#254, MAGNET_Y#255, MAGNET_Z#256, PROXIMITY#257, BATT_CHARGE#463, LAG_SPEED#259L, LEAD_SPEED#260L, LAG_LTIME#261, LEAD_LTIME#262, LAG_ACTIVITY#405, LEAD_ACTIVITY#434, DISTANCE#267, ... 4 more fields]\n                                    +- Project [ID_STATE#232, STYPE#492, ACTIVITY_STATE#376, ACTIVITY_CONFID#239L, CASE WHEN SOURCE#242 IN (FUSED,GPS,NET) THEN SOURCE#242 ELSE UNKNOWN END AS SOURCE#521, SPEED#243L, ACCURACY#244L, TYPE#248, LEVEL#249L, QUAL#250L, WIFI_CONNECTED#252, LIGHT#253, MAGNET_X#254, MAGNET_Y#255, MAGNET_Z#256, PROXIMITY#257, BATT_CHARGE#463, LAG_SPEED#259L, LEAD_SPEED#260L, LAG_LTIME#261, LEAD_LTIME#262, LAG_ACTIVITY#405, LEAD_ACTIVITY#434, DISTANCE#267, ... 4 more fields]\n                                       +- Project [ID_STATE#232, CASE WHEN STYPE#237 IN (LOCATION,NF_BOOST_TECHNOLOGY,NF_SERVICE,NF_BOOST_COVERAGE,TIMER,WORKER,UNKNOWN) THEN STYPE#237 ELSE UNKNOWN END AS STYPE#492, ACTIVITY_STATE#376, ACTIVITY_CONFID#239L, SOURCE#242, SPEED#243L, ACCURACY#244L, TYPE#248, LEVEL#249L, QUAL#250L, WIFI_CONNECTED#252, LIGHT#253, MAGNET_X#254, MAGNET_Y#255, MAGNET_Z#256, PROXIMITY#257, BATT_CHARGE#463, LAG_SPEED#259L, LEAD_SPEED#260L, LAG_LTIME#261, LEAD_LTIME#262, LAG_ACTIVITY#405, LEAD_ACTIVITY#434, DISTANCE#267, ... 4 more fields]\n                                          +- Project [ID_STATE#232, STYPE#237, ACTIVITY_STATE#376, ACTIVITY_CONFID#239L, SOURCE#242, SPEED#243L, ACCURACY#244L, TYPE#248, LEVEL#249L, QUAL#250L, WIFI_CONNECTED#252, LIGHT#253, MAGNET_X#254, MAGNET_Y#255, MAGNET_Z#256, PROXIMITY#257, CASE WHEN BATT_CHARGE#258 IN (CHARGING,FULL,NOT_CHARGING,UNCHARGING,UNKNOWN) THEN BATT_CHARGE#258 ELSE UNKNOWN END AS BATT_CHARGE#463, LAG_SPEED#259L, LEAD_SPEED#260L, LAG_LTIME#261, LEAD_LTIME#262, LAG_ACTIVITY#405, LEAD_ACTIVITY#434, DISTANCE#267, ... 4 more fields]\n                                             +- Project [ID_STATE#232, STYPE#237, ACTIVITY_STATE#376, ACTIVITY_CONFID#239L, SOURCE#242, SPEED#243L, ACCURACY#244L, TYPE#248, LEVEL#249L, QUAL#250L, WIFI_CONNECTED#252, LIGHT#253, MAGNET_X#254, MAGNET_Y#255, MAGNET_Z#256, PROXIMITY#257, BATT_CHARGE#258, LAG_SPEED#259L, LEAD_SPEED#260L, LAG_LTIME#261, LEAD_LTIME#262, LAG_ACTIVITY#405, CASE WHEN LEAD_ACTIVITY#264 IN (IN_VEHICLE,ON_BICYCLE,ON_FOOT,STILL,TILTING,WALKING,UNKNOWN) THEN LEAD_ACTIVITY#264 ELSE UNKNOWN END AS LEAD_ACTIVITY#434, DISTANCE#267, ... 4 more fields]\n                                                +- Project [ID_STATE#232, STYPE#237, ACTIVITY_STATE#376, ACTIVITY_CONFID#239L, SOURCE#242, SPEED#243L, ACCURACY#244L, TYPE#248, LEVEL#249L, QUAL#250L, WIFI_CONNECTED#252, LIGHT#253, MAGNET_X#254, MAGNET_Y#255, MAGNET_Z#256, PROXIMITY#257, BATT_CHARGE#258, LAG_SPEED#259L, LEAD_SPEED#260L, LAG_LTIME#261, LEAD_LTIME#262, CASE WHEN LAG_ACTIVITY#263 IN (IN_VEHICLE,ON_BICYCLE,ON_FOOT,STILL,TILTING,WALKING,UNKNOWN) THEN LAG_ACTIVITY#263 ELSE UNKNOWN END AS LAG_ACTIVITY#405, LEAD_ACTIVITY#264, DISTANCE#267, ... 4 more fields]\n                                                   +- Project [ID_STATE#232, STYPE#237, CASE WHEN ACTIVITY_STATE#238 IN (IN_VEHICLE,ON_BICYCLE,ON_FOOT,STILL,TILTING,WALKING,UNKNOWN) THEN ACTIVITY_STATE#238 ELSE UNKNOWN END AS ACTIVITY_STATE#376, ACTIVITY_CONFID#239L, SOURCE#242, SPEED#243L, ACCURACY#244L, TYPE#248, LEVEL#249L, QUAL#250L, WIFI_CONNECTED#252, LIGHT#253, MAGNET_X#254, MAGNET_Y#255, MAGNET_Z#256, PROXIMITY#257, BATT_CHARGE#258, LAG_SPEED#259L, LEAD_SPEED#260L, LAG_LTIME#261, LEAD_LTIME#262, LAG_ACTIVITY#263, LEAD_ACTIVITY#264, DISTANCE#267, ... 4 more fields]\n                                                      +- Deduplicate [MAGNET_Z#256, WEEKEND#271, ACCURACY#244L, LAG_SPEED#259L, SPEED#243L, SOURCE#242, PROXIMITY#257, ACTIVITY_CONFID#239L, LEVEL_MW#273, MAGNET_X#254, ID_STATE#232, MAGNET_Y#255, QUAL#250L, ACTIVITY_STATE#238, LEVEL#249L, STYPE#237, LEAD_LTIME#262, LEAD_ACTIVITY#264, DISTANCE#267, LAG_LTIME#261, LEAD_SPEED#260L, WIFI_CONNECTED#252, GPS_DELAY#268, LAG_ACTIVITY#263, ... 4 more fields]\n                                                         +- Project [ID_STATE#232, STYPE#237, ACTIVITY_STATE#238, ACTIVITY_CONFID#239L, SOURCE#242, SPEED#243L, ACCURACY#244L, TYPE#248, LEVEL#249L, QUAL#250L, WIFI_CONNECTED#252, LIGHT#253, MAGNET_X#254, MAGNET_Y#255, MAGNET_Z#256, PROXIMITY#257, BATT_CHARGE#258, LAG_SPEED#259L, LEAD_SPEED#260L, LAG_LTIME#261, LEAD_LTIME#262, LAG_ACTIVITY#263, LEAD_ACTIVITY#264, DISTANCE#267, ... 4 more fields]\n                                                            +- Relation[ID_FILE#231L,ID_STATE#232,DAY#233,MONTH#234,YEAR#235,STIME#236L,STYPE#237,ACTIVITY_STATE#238,ACTIVITY_CONFID#239L,STIME_SEC#240,LTIME#241L,SOURCE#242,SPEED#243L,ACCURACY#244L,LON#245,LAT#246,LTIME_SEC#247,TYPE#248,LEVEL#249L,QUAL#250L,SLOT#251L,WIFI_CONNECTED#252,LIGHT#253,MAGNET_X#254,... 19 more fields] parquet\n",
                    "traceback": [
                        "\u001b[0;31m---------------------------------------------------------------------------\u001b[0m",
                        "\u001b[0;31mAnalysisException\u001b[0m                         Traceback (most recent call last)",
                        "\u001b[0;32m<ipython-input-39-1fdcc351c5a9>\u001b[0m in \u001b[0;36m<module>\u001b[0;34m\u001b[0m\n\u001b[0;32m----> 1\u001b[0;31m \u001b[0mdf_transformed\u001b[0m\u001b[0;34m.\u001b[0m\u001b[0mgroupBy\u001b[0m\u001b[0;34m(\u001b[0m\u001b[0;34m'LEAD_ACTIVITY_index_one_hot_IN_VEHICLE'\u001b[0m\u001b[0;34m)\u001b[0m\u001b[0;34m.\u001b[0m\u001b[0mcount\u001b[0m\u001b[0;34m(\u001b[0m\u001b[0;34m)\u001b[0m\u001b[0;34m.\u001b[0m\u001b[0morderBy\u001b[0m\u001b[0;34m(\u001b[0m\u001b[0;34m'count'\u001b[0m\u001b[0;34m)\u001b[0m\u001b[0;34m.\u001b[0m\u001b[0mshow\u001b[0m\u001b[0;34m(\u001b[0m\u001b[0;34m)\u001b[0m\u001b[0;34m\u001b[0m\u001b[0;34m\u001b[0m\u001b[0m\n\u001b[0m",
                        "\u001b[0;32m/opt/spark/python/pyspark/sql/group.py\u001b[0m in \u001b[0;36m_api\u001b[0;34m(self)\u001b[0m\n\u001b[1;32m     29\u001b[0m     \u001b[0;32mdef\u001b[0m \u001b[0m_api\u001b[0m\u001b[0;34m(\u001b[0m\u001b[0mself\u001b[0m\u001b[0;34m)\u001b[0m\u001b[0;34m:\u001b[0m\u001b[0;34m\u001b[0m\u001b[0;34m\u001b[0m\u001b[0m\n\u001b[1;32m     30\u001b[0m         \u001b[0mname\u001b[0m \u001b[0;34m=\u001b[0m \u001b[0mf\u001b[0m\u001b[0;34m.\u001b[0m\u001b[0m__name__\u001b[0m\u001b[0;34m\u001b[0m\u001b[0;34m\u001b[0m\u001b[0m\n\u001b[0;32m---> 31\u001b[0;31m         \u001b[0mjdf\u001b[0m \u001b[0;34m=\u001b[0m \u001b[0mgetattr\u001b[0m\u001b[0;34m(\u001b[0m\u001b[0mself\u001b[0m\u001b[0;34m.\u001b[0m\u001b[0m_jgd\u001b[0m\u001b[0;34m,\u001b[0m \u001b[0mname\u001b[0m\u001b[0;34m)\u001b[0m\u001b[0;34m(\u001b[0m\u001b[0;34m)\u001b[0m\u001b[0;34m\u001b[0m\u001b[0;34m\u001b[0m\u001b[0m\n\u001b[0m\u001b[1;32m     32\u001b[0m         \u001b[0;32mreturn\u001b[0m \u001b[0mDataFrame\u001b[0m\u001b[0;34m(\u001b[0m\u001b[0mjdf\u001b[0m\u001b[0;34m,\u001b[0m \u001b[0mself\u001b[0m\u001b[0;34m.\u001b[0m\u001b[0msql_ctx\u001b[0m\u001b[0;34m)\u001b[0m\u001b[0;34m\u001b[0m\u001b[0;34m\u001b[0m\u001b[0m\n\u001b[1;32m     33\u001b[0m     \u001b[0m_api\u001b[0m\u001b[0;34m.\u001b[0m\u001b[0m__name__\u001b[0m \u001b[0;34m=\u001b[0m \u001b[0mf\u001b[0m\u001b[0;34m.\u001b[0m\u001b[0m__name__\u001b[0m\u001b[0;34m\u001b[0m\u001b[0;34m\u001b[0m\u001b[0m\n",
                        "\u001b[0;32m/opt/spark/python/lib/py4j-0.10.9-src.zip/py4j/java_gateway.py\u001b[0m in \u001b[0;36m__call__\u001b[0;34m(self, *args)\u001b[0m\n\u001b[1;32m   1302\u001b[0m \u001b[0;34m\u001b[0m\u001b[0m\n\u001b[1;32m   1303\u001b[0m         \u001b[0manswer\u001b[0m \u001b[0;34m=\u001b[0m \u001b[0mself\u001b[0m\u001b[0;34m.\u001b[0m\u001b[0mgateway_client\u001b[0m\u001b[0;34m.\u001b[0m\u001b[0msend_command\u001b[0m\u001b[0;34m(\u001b[0m\u001b[0mcommand\u001b[0m\u001b[0;34m)\u001b[0m\u001b[0;34m\u001b[0m\u001b[0;34m\u001b[0m\u001b[0m\n\u001b[0;32m-> 1304\u001b[0;31m         return_value = get_return_value(\n\u001b[0m\u001b[1;32m   1305\u001b[0m             answer, self.gateway_client, self.target_id, self.name)\n\u001b[1;32m   1306\u001b[0m \u001b[0;34m\u001b[0m\u001b[0m\n",
                        "\u001b[0;32m/opt/spark/python/pyspark/sql/utils.py\u001b[0m in \u001b[0;36mdeco\u001b[0;34m(*a, **kw)\u001b[0m\n\u001b[1;32m    115\u001b[0m                 \u001b[0;31m# Hide where the exception came from that shows a non-Pythonic\u001b[0m\u001b[0;34m\u001b[0m\u001b[0;34m\u001b[0m\u001b[0;34m\u001b[0m\u001b[0m\n\u001b[1;32m    116\u001b[0m                 \u001b[0;31m# JVM exception message.\u001b[0m\u001b[0;34m\u001b[0m\u001b[0;34m\u001b[0m\u001b[0;34m\u001b[0m\u001b[0m\n\u001b[0;32m--> 117\u001b[0;31m                 \u001b[0;32mraise\u001b[0m \u001b[0mconverted\u001b[0m \u001b[0;32mfrom\u001b[0m \u001b[0;32mNone\u001b[0m\u001b[0;34m\u001b[0m\u001b[0;34m\u001b[0m\u001b[0m\n\u001b[0m\u001b[1;32m    118\u001b[0m             \u001b[0;32melse\u001b[0m\u001b[0;34m:\u001b[0m\u001b[0;34m\u001b[0m\u001b[0;34m\u001b[0m\u001b[0m\n\u001b[1;32m    119\u001b[0m                 \u001b[0;32mraise\u001b[0m\u001b[0;34m\u001b[0m\u001b[0;34m\u001b[0m\u001b[0m\n",
                        "\u001b[0;31mAnalysisException\u001b[0m: cannot resolve '`LEAD_ACTIVITY_index_one_hot_IN_VEHICLE`' given input columns: [ACCURACY, ACTIVITY_CONFID, ACTIVITY_STATE, ACTIVITY_STATE_index, ACTIVITY_STATE_index_one_hot, BATT_CHARGE, BATT_CHARGE_index, BATT_CHARGE_index_one_hot, DISTANCE, GPS_DELAY, ID_STATE, LAG_ACTIVITY, LAG_ACTIVITY_index, LAG_ACTIVITY_index_one_hot, LAG_LTIME, LAG_SPEED, LEAD_ACTIVITY, LEAD_ACTIVITY_index, LEAD_ACTIVITY_index_one_hot, LEAD_LTIME, LEAD_SPEED, LEVEL, LEVEL_MW, LIGHT, MAGNET_X, MAGNET_Y, MAGNET_Z, PROXIMITY, QUAL, SOURCE, SOURCE_index, SOURCE_index_one_hot, SPEED, STYPE, STYPE_index, STYPE_index_one_hot, TIME_DAY, TIME_DAY_index, TIME_DAY_index_one_hot, TYPE, TYPE_index, TYPE_index_one_hot, WEEKEND, WIFI_CONNECTED_INT, X, prediction, probability, rawPrediction];\n'Aggregate ['LEAD_ACTIVITY_index_one_hot_IN_VEHICLE], ['LEAD_ACTIVITY_index_one_hot_IN_VEHICLE, count(1) AS count#2522L]\n+- Project [ID_STATE#757, STYPE#694, ACTIVITY_STATE#695, ACTIVITY_CONFID#758L, SOURCE#696, SPEED#759L, ACCURACY#760L, TYPE#697, LEVEL#761L, QUAL#762L, LIGHT#763, MAGNET_X#764, MAGNET_Y#765, MAGNET_Z#766, PROXIMITY#767, BATT_CHARGE#698, LAG_SPEED#768L, LEAD_SPEED#769L, LAG_LTIME#770, LEAD_LTIME#771, LAG_ACTIVITY#699, LEAD_ACTIVITY#700, DISTANCE#772, GPS_DELAY#773, ... 24 more fields]\n   +- Project [ID_STATE#757, STYPE#694, ACTIVITY_STATE#695, ACTIVITY_CONFID#758L, SOURCE#696, SPEED#759L, ACCURACY#760L, TYPE#697, LEVEL#761L, QUAL#762L, LIGHT#763, MAGNET_X#764, MAGNET_Y#765, MAGNET_Z#766, PROXIMITY#767, BATT_CHARGE#698, LAG_SPEED#768L, LEAD_SPEED#769L, LAG_LTIME#770, LEAD_LTIME#771, LAG_ACTIVITY#699, LEAD_ACTIVITY#700, DISTANCE#772, GPS_DELAY#773, ... 23 more fields]\n      +- Project [ID_STATE#757, STYPE#694, ACTIVITY_STATE#695, ACTIVITY_CONFID#758L, SOURCE#696, SPEED#759L, ACCURACY#760L, TYPE#697, LEVEL#761L, QUAL#762L, LIGHT#763, MAGNET_X#764, MAGNET_Y#765, MAGNET_Z#766, PROXIMITY#767, BATT_CHARGE#698, LAG_SPEED#768L, LEAD_SPEED#769L, LAG_LTIME#770, LEAD_LTIME#771, LAG_ACTIVITY#699, LEAD_ACTIVITY#700, DISTANCE#772, GPS_DELAY#773, ... 22 more fields]\n         +- Project [ID_STATE#757, STYPE#694, ACTIVITY_STATE#695, ACTIVITY_CONFID#758L, SOURCE#696, SPEED#759L, ACCURACY#760L, TYPE#697, LEVEL#761L, QUAL#762L, LIGHT#763, MAGNET_X#764, MAGNET_Y#765, MAGNET_Z#766, PROXIMITY#767, BATT_CHARGE#698, LAG_SPEED#768L, LEAD_SPEED#769L, LAG_LTIME#770, LEAD_LTIME#771, LAG_ACTIVITY#699, LEAD_ACTIVITY#700, DISTANCE#772, GPS_DELAY#773, ... 21 more fields]\n            +- Project [ID_STATE#757, STYPE#694, ACTIVITY_STATE#695, ACTIVITY_CONFID#758L, SOURCE#696, SPEED#759L, ACCURACY#760L, TYPE#697, LEVEL#761L, QUAL#762L, LIGHT#763, MAGNET_X#764, MAGNET_Y#765, MAGNET_Z#766, PROXIMITY#767, BATT_CHARGE#698, LAG_SPEED#768L, LEAD_SPEED#769L, LAG_LTIME#770, LEAD_LTIME#771, LAG_ACTIVITY#699, LEAD_ACTIVITY#700, DISTANCE#772, GPS_DELAY#773, ... 20 more fields]\n               +- Project [ID_STATE#757, STYPE#694, ACTIVITY_STATE#695, ACTIVITY_CONFID#758L, SOURCE#696, SPEED#759L, ACCURACY#760L, TYPE#697, LEVEL#761L, QUAL#762L, LIGHT#763, MAGNET_X#764, MAGNET_Y#765, MAGNET_Z#766, PROXIMITY#767, BATT_CHARGE#698, LAG_SPEED#768L, LEAD_SPEED#769L, LAG_LTIME#770, LEAD_LTIME#771, LAG_ACTIVITY#699, LEAD_ACTIVITY#700, DISTANCE#772, GPS_DELAY#773, ... 12 more fields]\n                  +- Project [coalesce(ID_STATE#232, cast(-1.0 as int)) AS ID_STATE#757, STYPE#694, ACTIVITY_STATE#695, coalesce(ACTIVITY_CONFID#239L, cast(-1.0 as bigint)) AS ACTIVITY_CONFID#758L, SOURCE#696, coalesce(SPEED#243L, cast(-1.0 as bigint)) AS SPEED#759L, coalesce(ACCURACY#244L, cast(-1.0 as bigint)) AS ACCURACY#760L, TYPE#697, coalesce(LEVEL#249L, cast(-1.0 as bigint)) AS LEVEL#761L, coalesce(QUAL#250L, cast(-1.0 as bigint)) AS QUAL#762L, coalesce(LIGHT#253, cast(-1.0 as int)) AS LIGHT#763, coalesce(nanvl(MAGNET_X#254, cast(null as double)), cast(-1.0 as double)) AS MAGNET_X#764, coalesce(nanvl(MAGNET_Y#255, cast(null as double)), cast(-1.0 as double)) AS MAGNET_Y#765, coalesce(nanvl(MAGNET_Z#256, cast(null as double)), cast(-1.0 as double)) AS MAGNET_Z#766, coalesce(PROXIMITY#257, cast(-1.0 as int)) AS PROXIMITY#767, BATT_CHARGE#698, coalesce(LAG_SPEED#259L, cast(-1.0 as bigint)) AS LAG_SPEED#768L, coalesce(LEAD_SPEED#260L, cast(-1.0 as bigint)) AS LEAD_SPEED#769L, coalesce(LAG_LTIME#261, cast(-1.0 as int)) AS LAG_LTIME#770, coalesce(LEAD_LTIME#262, cast(-1.0 as int)) AS LEAD_LTIME#771, LAG_ACTIVITY#699, LEAD_ACTIVITY#700, coalesce(DISTANCE#267, cast(-1.0 as int)) AS DISTANCE#772, coalesce(GPS_DELAY#268, cast(-1.0 as int)) AS GPS_DELAY#773, ... 4 more fields]\n                     +- Project [ID_STATE#232, coalesce(STYPE#492, cast(UNKNOWN as string)) AS STYPE#694, coalesce(ACTIVITY_STATE#376, cast(UNKNOWN as string)) AS ACTIVITY_STATE#695, ACTIVITY_CONFID#239L, coalesce(SOURCE#521, cast(UNKNOWN as string)) AS SOURCE#696, SPEED#243L, ACCURACY#244L, coalesce(TYPE#550, cast(UNKNOWN as string)) AS TYPE#697, LEVEL#249L, QUAL#250L, LIGHT#253, MAGNET_X#254, MAGNET_Y#255, MAGNET_Z#256, PROXIMITY#257, coalesce(BATT_CHARGE#463, cast(UNKNOWN as string)) AS BATT_CHARGE#698, LAG_SPEED#259L, LEAD_SPEED#260L, LAG_LTIME#261, LEAD_LTIME#262, coalesce(LAG_ACTIVITY#405, cast(UNKNOWN as string)) AS LAG_ACTIVITY#699, coalesce(LEAD_ACTIVITY#434, cast(UNKNOWN as string)) AS LEAD_ACTIVITY#700, DISTANCE#267, GPS_DELAY#268, ... 4 more fields]\n                        +- Project [ID_STATE#232, STYPE#492, ACTIVITY_STATE#376, ACTIVITY_CONFID#239L, SOURCE#521, SPEED#243L, ACCURACY#244L, TYPE#550, LEVEL#249L, QUAL#250L, LIGHT#253, MAGNET_X#254, MAGNET_Y#255, MAGNET_Z#256, PROXIMITY#257, BATT_CHARGE#463, LAG_SPEED#259L, LEAD_SPEED#260L, LAG_LTIME#261, LEAD_LTIME#262, LAG_ACTIVITY#405, LEAD_ACTIVITY#434, DISTANCE#267, GPS_DELAY#268, ... 4 more fields]\n                           +- Project [ID_STATE#232, STYPE#492, ACTIVITY_STATE#376, ACTIVITY_CONFID#239L, SOURCE#521, SPEED#243L, ACCURACY#244L, TYPE#550, LEVEL#249L, QUAL#250L, WIFI_CONNECTED#252, LIGHT#253, MAGNET_X#254, MAGNET_Y#255, MAGNET_Z#256, PROXIMITY#257, BATT_CHARGE#463, LAG_SPEED#259L, LEAD_SPEED#260L, LAG_LTIME#261, LEAD_LTIME#262, LAG_ACTIVITY#405, LEAD_ACTIVITY#434, DISTANCE#267, ... 5 more fields]\n                              +- Project [ID_STATE#232, STYPE#492, ACTIVITY_STATE#376, ACTIVITY_CONFID#239L, SOURCE#521, SPEED#243L, ACCURACY#244L, TYPE#550, LEVEL#249L, QUAL#250L, WIFI_CONNECTED#252, LIGHT#253, MAGNET_X#254, MAGNET_Y#255, MAGNET_Z#256, PROXIMITY#257, BATT_CHARGE#463, LAG_SPEED#259L, LEAD_SPEED#260L, LAG_LTIME#261, LEAD_LTIME#262, LAG_ACTIVITY#405, LEAD_ACTIVITY#434, DISTANCE#267, ... 4 more fields]\n                                 +- Project [ID_STATE#232, STYPE#492, ACTIVITY_STATE#376, ACTIVITY_CONFID#239L, SOURCE#521, SPEED#243L, ACCURACY#244L, CASE WHEN TYPE#248 IN (GSM,LTE,UNKNOWN,WCDMA) THEN TYPE#248 ELSE UNKNOWN END AS TYPE#550, LEVEL#249L, QUAL#250L, WIFI_CONNECTED#252, LIGHT#253, MAGNET_X#254, MAGNET_Y#255, MAGNET_Z#256, PROXIMITY#257, BATT_CHARGE#463, LAG_SPEED#259L, LEAD_SPEED#260L, LAG_LTIME#261, LEAD_LTIME#262, LAG_ACTIVITY#405, LEAD_ACTIVITY#434, DISTANCE#267, ... 4 more fields]\n                                    +- Project [ID_STATE#232, STYPE#492, ACTIVITY_STATE#376, ACTIVITY_CONFID#239L, CASE WHEN SOURCE#242 IN (FUSED,GPS,NET) THEN SOURCE#242 ELSE UNKNOWN END AS SOURCE#521, SPEED#243L, ACCURACY#244L, TYPE#248, LEVEL#249L, QUAL#250L, WIFI_CONNECTED#252, LIGHT#253, MAGNET_X#254, MAGNET_Y#255, MAGNET_Z#256, PROXIMITY#257, BATT_CHARGE#463, LAG_SPEED#259L, LEAD_SPEED#260L, LAG_LTIME#261, LEAD_LTIME#262, LAG_ACTIVITY#405, LEAD_ACTIVITY#434, DISTANCE#267, ... 4 more fields]\n                                       +- Project [ID_STATE#232, CASE WHEN STYPE#237 IN (LOCATION,NF_BOOST_TECHNOLOGY,NF_SERVICE,NF_BOOST_COVERAGE,TIMER,WORKER,UNKNOWN) THEN STYPE#237 ELSE UNKNOWN END AS STYPE#492, ACTIVITY_STATE#376, ACTIVITY_CONFID#239L, SOURCE#242, SPEED#243L, ACCURACY#244L, TYPE#248, LEVEL#249L, QUAL#250L, WIFI_CONNECTED#252, LIGHT#253, MAGNET_X#254, MAGNET_Y#255, MAGNET_Z#256, PROXIMITY#257, BATT_CHARGE#463, LAG_SPEED#259L, LEAD_SPEED#260L, LAG_LTIME#261, LEAD_LTIME#262, LAG_ACTIVITY#405, LEAD_ACTIVITY#434, DISTANCE#267, ... 4 more fields]\n                                          +- Project [ID_STATE#232, STYPE#237, ACTIVITY_STATE#376, ACTIVITY_CONFID#239L, SOURCE#242, SPEED#243L, ACCURACY#244L, TYPE#248, LEVEL#249L, QUAL#250L, WIFI_CONNECTED#252, LIGHT#253, MAGNET_X#254, MAGNET_Y#255, MAGNET_Z#256, PROXIMITY#257, CASE WHEN BATT_CHARGE#258 IN (CHARGING,FULL,NOT_CHARGING,UNCHARGING,UNKNOWN) THEN BATT_CHARGE#258 ELSE UNKNOWN END AS BATT_CHARGE#463, LAG_SPEED#259L, LEAD_SPEED#260L, LAG_LTIME#261, LEAD_LTIME#262, LAG_ACTIVITY#405, LEAD_ACTIVITY#434, DISTANCE#267, ... 4 more fields]\n                                             +- Project [ID_STATE#232, STYPE#237, ACTIVITY_STATE#376, ACTIVITY_CONFID#239L, SOURCE#242, SPEED#243L, ACCURACY#244L, TYPE#248, LEVEL#249L, QUAL#250L, WIFI_CONNECTED#252, LIGHT#253, MAGNET_X#254, MAGNET_Y#255, MAGNET_Z#256, PROXIMITY#257, BATT_CHARGE#258, LAG_SPEED#259L, LEAD_SPEED#260L, LAG_LTIME#261, LEAD_LTIME#262, LAG_ACTIVITY#405, CASE WHEN LEAD_ACTIVITY#264 IN (IN_VEHICLE,ON_BICYCLE,ON_FOOT,STILL,TILTING,WALKING,UNKNOWN) THEN LEAD_ACTIVITY#264 ELSE UNKNOWN END AS LEAD_ACTIVITY#434, DISTANCE#267, ... 4 more fields]\n                                                +- Project [ID_STATE#232, STYPE#237, ACTIVITY_STATE#376, ACTIVITY_CONFID#239L, SOURCE#242, SPEED#243L, ACCURACY#244L, TYPE#248, LEVEL#249L, QUAL#250L, WIFI_CONNECTED#252, LIGHT#253, MAGNET_X#254, MAGNET_Y#255, MAGNET_Z#256, PROXIMITY#257, BATT_CHARGE#258, LAG_SPEED#259L, LEAD_SPEED#260L, LAG_LTIME#261, LEAD_LTIME#262, CASE WHEN LAG_ACTIVITY#263 IN (IN_VEHICLE,ON_BICYCLE,ON_FOOT,STILL,TILTING,WALKING,UNKNOWN) THEN LAG_ACTIVITY#263 ELSE UNKNOWN END AS LAG_ACTIVITY#405, LEAD_ACTIVITY#264, DISTANCE#267, ... 4 more fields]\n                                                   +- Project [ID_STATE#232, STYPE#237, CASE WHEN ACTIVITY_STATE#238 IN (IN_VEHICLE,ON_BICYCLE,ON_FOOT,STILL,TILTING,WALKING,UNKNOWN) THEN ACTIVITY_STATE#238 ELSE UNKNOWN END AS ACTIVITY_STATE#376, ACTIVITY_CONFID#239L, SOURCE#242, SPEED#243L, ACCURACY#244L, TYPE#248, LEVEL#249L, QUAL#250L, WIFI_CONNECTED#252, LIGHT#253, MAGNET_X#254, MAGNET_Y#255, MAGNET_Z#256, PROXIMITY#257, BATT_CHARGE#258, LAG_SPEED#259L, LEAD_SPEED#260L, LAG_LTIME#261, LEAD_LTIME#262, LAG_ACTIVITY#263, LEAD_ACTIVITY#264, DISTANCE#267, ... 4 more fields]\n                                                      +- Deduplicate [MAGNET_Z#256, WEEKEND#271, ACCURACY#244L, LAG_SPEED#259L, SPEED#243L, SOURCE#242, PROXIMITY#257, ACTIVITY_CONFID#239L, LEVEL_MW#273, MAGNET_X#254, ID_STATE#232, MAGNET_Y#255, QUAL#250L, ACTIVITY_STATE#238, LEVEL#249L, STYPE#237, LEAD_LTIME#262, LEAD_ACTIVITY#264, DISTANCE#267, LAG_LTIME#261, LEAD_SPEED#260L, WIFI_CONNECTED#252, GPS_DELAY#268, LAG_ACTIVITY#263, ... 4 more fields]\n                                                         +- Project [ID_STATE#232, STYPE#237, ACTIVITY_STATE#238, ACTIVITY_CONFID#239L, SOURCE#242, SPEED#243L, ACCURACY#244L, TYPE#248, LEVEL#249L, QUAL#250L, WIFI_CONNECTED#252, LIGHT#253, MAGNET_X#254, MAGNET_Y#255, MAGNET_Z#256, PROXIMITY#257, BATT_CHARGE#258, LAG_SPEED#259L, LEAD_SPEED#260L, LAG_LTIME#261, LEAD_LTIME#262, LAG_ACTIVITY#263, LEAD_ACTIVITY#264, DISTANCE#267, ... 4 more fields]\n                                                            +- Relation[ID_FILE#231L,ID_STATE#232,DAY#233,MONTH#234,YEAR#235,STIME#236L,STYPE#237,ACTIVITY_STATE#238,ACTIVITY_CONFID#239L,STIME_SEC#240,LTIME#241L,SOURCE#242,SPEED#243L,ACCURACY#244L,LON#245,LAT#246,LTIME_SEC#247,TYPE#248,LEVEL#249L,QUAL#250L,SLOT#251L,WIFI_CONNECTED#252,LIGHT#253,MAGNET_X#254,... 19 more fields] parquet\n"
                    ]
                }
            ],
            "source": [
                "df_transformed.groupBy('LEAD_ACTIVITY_index_one_hot_IN_VEHICLE').count().orderBy('count').show()"
            ]
        },
        {
            "cell_type": "code",
            "execution_count": 32,
            "metadata": {},
            "outputs": [],
            "source": [
                "import pandas as pd\n",
                "import numpy as np\n",
                "from pandas.api.types import CategoricalDtype\n",
                "from joblib import dump, load"
            ]
        },
        {
            "cell_type": "code",
            "execution_count": 33,
            "metadata": {},
            "outputs": [
                {
                    "output_type": "stream",
                    "name": "stderr",
                    "text": [
                        "/home/lorenz.wackenhut/anaconda3/envs/pyspark/lib/python3.8/site-packages/sklearn/base.py:329: UserWarning: Trying to unpickle estimator DecisionTreeClassifier from version 0.22.1 when using version 0.23.2. This might lead to breaking code or invalid results. Use at your own risk.\n",
                        "  warnings.warn(\n",
                        "/home/lorenz.wackenhut/anaconda3/envs/pyspark/lib/python3.8/site-packages/sklearn/base.py:329: UserWarning: Trying to unpickle estimator RandomForestClassifier from version 0.22.1 when using version 0.23.2. This might lead to breaking code or invalid results. Use at your own risk.\n",
                        "  warnings.warn(\n"
                    ]
                }
            ],
            "source": [
                "rfc = load('RandomForestModel_10_06_2020.joblib') "
            ]
        },
        {
            "cell_type": "code",
            "execution_count": 34,
            "metadata": {},
            "outputs": [],
            "source": [
                "df = df_drop.toPandas()"
            ]
        },
        {
            "cell_type": "code",
            "execution_count": 37,
            "metadata": {},
            "outputs": [
                {
                    "output_type": "execute_result",
                    "data": {
                        "text/plain": [
                            "ACCURACY             int64\n",
                            "ACTIVITY_CONFID      int64\n",
                            "ACTIVITY_STATE      object\n",
                            "BATT_CHARGE         object\n",
                            "DISTANCE             int32\n",
                            "GPS_DELAY            int32\n",
                            "ID_STATE             int32\n",
                            "LAG_ACTIVITY        object\n",
                            "LAG_LTIME            int32\n",
                            "LAG_SPEED            int64\n",
                            "LEAD_ACTIVITY       object\n",
                            "LEAD_LTIME           int32\n",
                            "LEAD_SPEED           int64\n",
                            "LEVEL                int64\n",
                            "LEVEL_MW           float64\n",
                            "LIGHT                int32\n",
                            "MAGNET_X           float64\n",
                            "MAGNET_Y           float64\n",
                            "MAGNET_Z           float64\n",
                            "PROXIMITY            int32\n",
                            "QUAL                 int64\n",
                            "SOURCE              object\n",
                            "SPEED                int64\n",
                            "STYPE               object\n",
                            "TIME_DAY            object\n",
                            "TYPE                object\n",
                            "WEEKEND              int32\n",
                            "WIFI_CONNECTED      object\n",
                            "dtype: object"
                        ]
                    },
                    "metadata": {},
                    "execution_count": 37
                }
            ],
            "source": [
                "df = df.reindex(sorted(df.columns), axis=1)\n",
                "df.dtypes"
            ]
        },
        {
            "cell_type": "code",
            "execution_count": 15,
            "metadata": {},
            "outputs": [],
            "source": [
                "df.SOURCE=df.SOURCE.astype(CategoricalDtype(categories=gps_sources)) \n",
                "df.WIFI_CONNECTED=df.WIFI_CONNECTED.astype(CategoricalDtype(categories=wifi)) \n",
                "df.WEEKEND=df.WEEKEND.astype(CategoricalDtype(categories=weekends)) \n",
                "df.STYPE=df.STYPE.astype(CategoricalDtype(categories=stypes)) \n",
                "df.TYPE=df.TYPE.astype(CategoricalDtype(categories=types))\n",
                "    \n",
                "df.ACTIVITY_STATE=df.ACTIVITY_STATE.astype(CategoricalDtype(categories=activity_states))\n",
                "df.LAG_ACTIVITY=df.LAG_ACTIVITY.astype(CategoricalDtype(categories=activity_states))\n",
                "df.LEAD_ACTIVITY=df.LEAD_ACTIVITY.astype(CategoricalDtype(categories=activity_states))\n",
                "df.BATT_CHARGE=df.BATT_CHARGE.astype(CategoricalDtype(categories=battery_states))\n",
                "\n",
                "df.TIME_DAY=df.TIME_DAY.astype(CategoricalDtype(categories=times_of_day))"
            ]
        },
        {
            "cell_type": "code",
            "execution_count": 16,
            "metadata": {},
            "outputs": [],
            "source": [
                "df = pd.get_dummies(df, columns=['STYPE', 'TYPE','SOURCE',\n",
                "                                 'WIFI_CONNECTED','BATT_CHARGE',\n",
                "                                 'ACTIVITY_STATE','LAG_ACTIVITY',\n",
                "                                 'LEAD_ACTIVITY', 'WEEKEND', 'TIME_DAY'])"
            ]
        },
        {
            "cell_type": "code",
            "execution_count": 19,
            "metadata": {},
            "outputs": [],
            "source": [
                "df = df[\n",
                "['ID_STATE',\n",
                " 'LEVEL',\n",
                " 'QUAL',\n",
                " 'GPS_DELAY',\n",
                " 'SPEED',\n",
                " 'ACCURACY',\n",
                " 'LAG_SPEED',\n",
                " 'LAG_LTIME',\n",
                " 'LEAD_SPEED',\n",
                " 'LEAD_LTIME',\n",
                " 'DISTANCE',\n",
                " 'LIGHT',\n",
                " 'MAGNET_X',\n",
                " 'MAGNET_Y',\n",
                " 'MAGNET_Z',\n",
                " 'PROXIMITY',\n",
                " 'ACTIVITY_CONFID',\n",
                " 'STYPE_LOCATION',\n",
                " 'STYPE_NF_BOOST_TECHNOLOGY',\n",
                " 'STYPE_NF_SERVICE',\n",
                " 'STYPE_NF_BOOST_COVERAGE',\n",
                " 'STYPE_TIMER',\n",
                " 'STYPE_WORKER',\n",
                " 'STYPE_UNKNOWN',\n",
                " 'TYPE_GSM',\n",
                " 'TYPE_LTE',\n",
                " 'TYPE_UNKNOWN',\n",
                " 'TYPE_WCDMA',\n",
                " 'SOURCE_FUSED',\n",
                " 'SOURCE_GPS',\n",
                " 'SOURCE_NET',\n",
                " 'WIFI_CONNECTED_f',\n",
                " 'WIFI_CONNECTED_t',\n",
                " 'BATT_CHARGE_CHARGING',\n",
                " 'BATT_CHARGE_FULL',\n",
                " 'BATT_CHARGE_NOT_CHARGING',\n",
                " 'BATT_CHARGE_UNCHARGING',\n",
                " 'BATT_CHARGE_UNKNOWN',\n",
                " 'ACTIVITY_STATE_IN_VEHICLE',\n",
                " 'ACTIVITY_STATE_ON_BICYCLE',\n",
                " 'ACTIVITY_STATE_ON_FOOT',\n",
                " 'ACTIVITY_STATE_STILL',\n",
                " 'ACTIVITY_STATE_TILTING',\n",
                " 'ACTIVITY_STATE_WALKING',\n",
                " 'ACTIVITY_STATE_UNKNOWN',\n",
                " 'LAG_ACTIVITY_IN_VEHICLE',\n",
                " 'LAG_ACTIVITY_ON_BICYCLE',\n",
                " 'LAG_ACTIVITY_ON_FOOT',\n",
                " 'LAG_ACTIVITY_STILL',\n",
                " 'LAG_ACTIVITY_TILTING',\n",
                " 'LAG_ACTIVITY_WALKING',\n",
                " 'LAG_ACTIVITY_UNKNOWN',\n",
                " 'LEAD_ACTIVITY_IN_VEHICLE',\n",
                " 'LEAD_ACTIVITY_ON_BICYCLE',\n",
                " 'LEAD_ACTIVITY_ON_FOOT',\n",
                " 'LEAD_ACTIVITY_STILL',\n",
                " 'LEAD_ACTIVITY_TILTING',\n",
                " 'LEAD_ACTIVITY_WALKING',\n",
                " 'LEAD_ACTIVITY_UNKNOWN',\n",
                " 'WEEKEND_0',\n",
                " 'WEEKEND_1',\n",
                " 'TIME_DAY_MORNING',\n",
                " 'TIME_DAY_AFTERNOON',\n",
                " 'TIME_DAY_NIGHT']]"
            ]
        },
        {
            "cell_type": "code",
            "execution_count": 20,
            "metadata": {},
            "outputs": [
                {
                    "output_type": "execute_result",
                    "data": {
                        "text/plain": [
                            "Index(['ACCURACY', 'ACTIVITY_CONFID', 'ACTIVITY_STATE_IN_VEHICLE',\n",
                            "       'ACTIVITY_STATE_ON_BICYCLE', 'ACTIVITY_STATE_ON_FOOT',\n",
                            "       'ACTIVITY_STATE_STILL', 'ACTIVITY_STATE_TILTING',\n",
                            "       'ACTIVITY_STATE_UNKNOWN', 'ACTIVITY_STATE_WALKING',\n",
                            "       'BATT_CHARGE_CHARGING', 'BATT_CHARGE_FULL', 'BATT_CHARGE_NOT_CHARGING',\n",
                            "       'BATT_CHARGE_UNCHARGING', 'BATT_CHARGE_UNKNOWN', 'DISTANCE',\n",
                            "       'GPS_DELAY', 'ID_STATE', 'LAG_ACTIVITY_IN_VEHICLE',\n",
                            "       'LAG_ACTIVITY_ON_BICYCLE', 'LAG_ACTIVITY_ON_FOOT', 'LAG_ACTIVITY_STILL',\n",
                            "       'LAG_ACTIVITY_TILTING', 'LAG_ACTIVITY_UNKNOWN', 'LAG_ACTIVITY_WALKING',\n",
                            "       'LAG_LTIME', 'LAG_SPEED', 'LEAD_ACTIVITY_IN_VEHICLE',\n",
                            "       'LEAD_ACTIVITY_ON_BICYCLE', 'LEAD_ACTIVITY_ON_FOOT',\n",
                            "       'LEAD_ACTIVITY_STILL', 'LEAD_ACTIVITY_TILTING', 'LEAD_ACTIVITY_UNKNOWN',\n",
                            "       'LEAD_ACTIVITY_WALKING', 'LEAD_LTIME', 'LEAD_SPEED', 'LEVEL', 'LIGHT',\n",
                            "       'MAGNET_X', 'MAGNET_Y', 'MAGNET_Z', 'PROXIMITY', 'QUAL', 'SOURCE_FUSED',\n",
                            "       'SOURCE_GPS', 'SOURCE_NET', 'SPEED', 'STYPE_LOCATION',\n",
                            "       'STYPE_NF_BOOST_COVERAGE', 'STYPE_NF_BOOST_TECHNOLOGY',\n",
                            "       'STYPE_NF_SERVICE', 'STYPE_TIMER', 'STYPE_UNKNOWN', 'STYPE_WORKER',\n",
                            "       'TIME_DAY_AFTERNOON', 'TIME_DAY_MORNING', 'TIME_DAY_NIGHT', 'TYPE_GSM',\n",
                            "       'TYPE_LTE', 'TYPE_UNKNOWN', 'TYPE_WCDMA', 'WEEKEND_0', 'WEEKEND_1',\n",
                            "       'WIFI_CONNECTED_f', 'WIFI_CONNECTED_t'],\n",
                            "      dtype='object')"
                        ]
                    },
                    "metadata": {},
                    "execution_count": 20
                }
            ],
            "source": [
                "df = df.reindex(sorted(df.columns), axis=1)\n",
                "df.columns"
            ]
        },
        {
            "cell_type": "code",
            "execution_count": 22,
            "metadata": {},
            "outputs": [],
            "source": [
                "X = df.drop(['ID_STATE'], axis=1).values\n",
                "sample_id = df['ID_STATE'].values\n",
                "y = rfc.predict(X)"
            ]
        },
        {
            "cell_type": "code",
            "execution_count": 23,
            "metadata": {},
            "outputs": [],
            "source": [
                "df['OUTDOOR'] = y"
            ]
        },
        {
            "cell_type": "code",
            "execution_count": 25,
            "metadata": {},
            "outputs": [
                {
                    "data": {
                        "text/plain": [
                            "0    588463\n",
                            "1    216849\n",
                            "Name: OUTDOOR, dtype: int64"
                        ]
                    },
                    "execution_count": 25,
                    "metadata": {},
                    "output_type": "execute_result"
                }
            ],
            "source": [
                "df['OUTDOOR'].value_counts()"
            ]
        }
    ],
    "metadata": {
        "kernelspec": {
            "name": "python385jvsc74a57bd0f84e33ce34231afd734e2a37eda8a43c0781e38ab9531d970a673cdcbf7f5015",
            "display_name": "Python 3.8.5 64-bit ('pyspark': conda)"
        },
        "language_info": {
            "codemirror_mode": {
                "name": "ipython",
                "version": 3
            },
            "file_extension": ".py",
            "mimetype": "text/x-python",
            "name": "python",
            "nbconvert_exporter": "python",
            "pygments_lexer": "ipython3",
            "version": "3.8.5-final"
        }
    },
    "nbformat": 4,
    "nbformat_minor": 4
}