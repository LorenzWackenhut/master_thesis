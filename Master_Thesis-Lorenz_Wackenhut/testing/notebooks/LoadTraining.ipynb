{
    "cells": [
        {
            "cell_type": "code",
            "execution_count": 13,
            "metadata": {},
            "outputs": [],
            "source": [
                "import pyspark\n",
                "from pyspark.sql.types import *\n",
                "from pyspark import SparkContext\n",
                "from pyspark.sql import SparkSession\n",
                "from pyspark.sql import SQLContext\n",
                "import pyspark.sql.functions as F\n",
                "from datetime import datetime\n",
                "import pytz"
            ]
        },
        {
            "cell_type": "code",
            "execution_count": 14,
            "metadata": {},
            "outputs": [],
            "source": [
                "account_name = \"REDACTED\"\n",
                "account_key = \"REDACTED\"\n",
                "\n",
                "spark = (\n",
                "    SparkSession\n",
                "        .builder\n",
                "        .master('local[*]')\n",
                "        .appName(\"Ingestion\")\n",
                "        .config(\"spark.driver.memory\", \"4g\")\n",
                "        .config(\"fs.azure.account.auth.type.\" + account_name + \".dfs.core.windows.net\", \"SharedKey\")\n",
                "        .config(\"fs.azure.account.key.\" + account_name + \".dfs.core.windows.net\", account_key)\n",
                "        .getOrCreate()\n",
                ")\n",
                "\n",
                "sc = spark.sparkContext"
            ]
        },
        {
            "cell_type": "code",
            "execution_count": 15,
            "metadata": {},
            "outputs": [],
            "source": [
                "container_name = 'data'\n",
                "path_to_table = '/training/'\n",
                "\n",
                "def readDataframeFromAdls(spark_session, container_name, path_to_table, table_name):\n",
                "    return (\n",
                "        spark_session\n",
                "            .read\n",
                "            .parquet(\n",
                "                f\"abfss://{container_name}@REDACTED.dfs.core.windows.net{path_to_table}{table_name}\"\n",
                "            )\n",
                "    ) "
            ]
        },
        {
            "cell_type": "code",
            "execution_count": 16,
            "metadata": {},
            "outputs": [],
            "source": [
                "#take approx. 255000 samples\n",
                "df_env_indoor = (\n",
                "    readDataframeFromAdls(spark, container_name, path_to_table, 'df_env_indoor')\n",
                "        .withColumn('TABLE', F.lit('df_env_indoor'))\n",
                "        .sample(0.633)\n",
                ")\n",
                "df_env_outdoor = (\n",
                "    readDataframeFromAdls(spark, container_name, path_to_table, 'df_env_outdoor')\n",
                "        .withColumn('TABLE', F.lit('df_env_outdoor'))\n",
                ")\n",
                "df_geo_labeled = (\n",
                "    readDataframeFromAdls(spark, container_name, path_to_table, 'df_geo_labeled')\n",
                "        .withColumn('TABLE', F.lit('df_geo_labeled'))\n",
                ")\n",
                "df_man_labeled = (\n",
                "    readDataframeFromAdls(spark, container_name, path_to_table, 'df_man_labeled')\n",
                "        .withColumn('TABLE', F.lit('df_man_labeled'))\n",
                ")"
            ]
        },
        {
            "cell_type": "code",
            "execution_count": 17,
            "metadata": {},
            "outputs": [
                {
                    "output_type": "stream",
                    "name": "stdout",
                    "text": [
                        "+---------+------+\n|ENV_LABEL| count|\n+---------+------+\n|        i|258209|\n+---------+------+\n\n"
                    ]
                }
            ],
            "source": [
                "df_env_indoor.groupBy('ENV_LABEL').count().orderBy('count').show()"
            ]
        },
        {
            "cell_type": "code",
            "execution_count": 18,
            "metadata": {},
            "outputs": [
                {
                    "output_type": "stream",
                    "name": "stdout",
                    "text": [
                        "+---------+------+\n|ENV_LABEL| count|\n+---------+------+\n|        o|257617|\n+---------+------+\n\n"
                    ]
                }
            ],
            "source": [
                "df_env_outdoor.groupBy('ENV_LABEL').count().orderBy('count').show()"
            ]
        },
        {
            "cell_type": "code",
            "execution_count": 19,
            "metadata": {},
            "outputs": [
                {
                    "output_type": "stream",
                    "name": "stdout",
                    "text": [
                        "+---------+------+\n|ENV_LABEL| count|\n+---------+------+\n|        o|  6695|\n|        i| 10077|\n|        v|445493|\n+---------+------+\n\n"
                    ]
                }
            ],
            "source": [
                "df_geo_labeled.groupBy('ENV_LABEL').count().orderBy('count').show()"
            ]
        },
        {
            "cell_type": "code",
            "execution_count": 20,
            "metadata": {},
            "outputs": [
                {
                    "output_type": "stream",
                    "name": "stdout",
                    "text": [
                        "+---------+-----+\n|ENV_LABEL|count|\n+---------+-----+\n|    METRO|   35|\n|      BUS|  391|\n|    TRAIN|  845|\n|      CAR| 1060|\n|  OUTDOOR| 2034|\n|   INDOOR|46387|\n+---------+-----+\n\n"
                    ]
                }
            ],
            "source": [
                "df_man_labeled.groupBy('ENV_LABEL').count().orderBy('count').show()"
            ]
        },
        {
            "cell_type": "code",
            "execution_count": 21,
            "metadata": {},
            "outputs": [],
            "source": [
                "df_geo_labeled_io = (\n",
                "    df_geo_labeled\n",
                "        .filter(F.col('ENV_LABEL').isin(['i', 'o']))\n",
                ")\n",
                "\n",
                "#take approx. 5000 samples\n",
                "df_geo_labeled_v = (\n",
                "    df_geo_labeled\n",
                "        .filter(F.col('ENV_LABEL') == 'v')\n",
                "        .sample(0.009)\n",
                ")\n",
                "\n",
                "df_geo_labeled_union = df_geo_labeled_io.union(F.broadcast(df_geo_labeled_v))"
            ]
        },
        {
            "cell_type": "code",
            "execution_count": 22,
            "metadata": {},
            "outputs": [],
            "source": [
                "# take approx. 6000 indoor samples \n",
                "df_man_labeled_i = (\n",
                "    df_man_labeled\n",
                "        .filter(F.col('ENV_LABEL').isin(['METRO', 'INDOOR']))\n",
                "        .sample(0.093)\n",
                ")\n",
                "\n",
                "df_man_labeled_o = (\n",
                "    df_man_labeled\n",
                "        .filter(~F.col('ENV_LABEL').isin(['METRO', 'INDOOR']))\n",
                ")\n",
                "\n",
                "df_man_labeled_union = df_man_labeled_i.union(F.broadcast(df_man_labeled_o))"
            ]
        },
        {
            "cell_type": "code",
            "execution_count": 23,
            "metadata": {},
            "outputs": [],
            "source": [
                "df_union = (\n",
                "    df_env_indoor\n",
                "        .union(F.broadcast(df_env_outdoor))\n",
                "        .union(F.broadcast(df_geo_labeled_union))\n",
                "        .union(F.broadcast(df_man_labeled_union))\n",
                "        .withColumn('STIME', F.to_timestamp(F.col('STIME')))\n",
                "        .withColumn('STIME_SEC', F.col('STIME').cast('long'))\n",
                ")"
            ]
        },
        {
            "cell_type": "code",
            "execution_count": 24,
            "metadata": {},
            "outputs": [],
            "source": [
                "@F.udf(returnType=IntegerType())\n",
                "def epochToWeekday(epoch):\n",
                "    return int(datetime.fromtimestamp(epoch).strftime('%w'))"
            ]
        },
        {
            "cell_type": "code",
            "execution_count": 25,
            "metadata": {},
            "outputs": [],
            "source": [
                "@F.udf(returnType=IntegerType())\n",
                "def epochToHour(epoch):\n",
                "    return int(datetime.fromtimestamp(epoch).strftime('%-H'))"
            ]
        },
        {
            "cell_type": "code",
            "execution_count": 26,
            "metadata": {},
            "outputs": [],
            "source": [
                "df_weekday = df_union.withColumn('WEEKDAY', epochToWeekday(F.col('STIME_SEC')))\n",
                "df_hour = df_weekday.withColumn('HOUR', epochToHour(F.col('STIME_SEC')))"
            ]
        },
        {
            "cell_type": "code",
            "execution_count": 27,
            "metadata": {},
            "outputs": [],
            "source": [
                "df_weekend = (\n",
                "    df_hour\n",
                "        .withColumn('WEEKEND', \n",
                "            F.when(\n",
                "                F.col('WEEKDAY').isin([6, 0]), 1\n",
                "            )\n",
                "            .otherwise(0)\n",
                "        )\n",
                "    )"
            ]
        },
        {
            "cell_type": "code",
            "execution_count": 28,
            "metadata": {},
            "outputs": [],
            "source": [
                "def isSummerTime(dt=datetime.now(), timezone=\"Europe/Berlin\"):\n",
                "    timezone = pytz.timezone(timezone)\n",
                "    timezone_aware_date = timezone.localize(dt, is_dst=None)\n",
                "    return timezone_aware_date.tzinfo._dst.seconds != 0"
            ]
        },
        {
            "cell_type": "code",
            "execution_count": 29,
            "metadata": {},
            "outputs": [],
            "source": [
                "hours_added = 1\n",
                "if isSummerTime():\n",
                "    hours_added = 2\n",
                "\n",
                "df_time_day = (\n",
                "    df_weekend\n",
                "        .withColumn('TIME_DAY', \n",
                "            F.when(\n",
                "                (F.col('HOUR') + F.lit(hours_added)).between(6, 11), 'MORNING'\n",
                "            )\n",
                "            .otherwise(\n",
                "                F.when(\n",
                "                    (F.col('HOUR') + F.lit(hours_added)).between(12, 17), 'AFTERNOON'\n",
                "                )\n",
                "                .otherwise(\n",
                "                    F.when(\n",
                "                        (F.col('HOUR') + F.lit(hours_added)).between(18, 24), 'NIGHT'\n",
                "                    )\n",
                "                    .otherwise('NIGHT')\n",
                "                )\n",
                "            )\n",
                "        )\n",
                "    )"
            ]
        },
        {
            "cell_type": "code",
            "execution_count": 30,
            "metadata": {},
            "outputs": [],
            "source": [
                "@F.udf(returnType=DoubleType())\n",
                "def dbmToMw(level):\n",
                "    if level is None:\n",
                "        return None\n",
                "    else:\n",
                "        return 10**((level)/10.)"
            ]
        },
        {
            "cell_type": "code",
            "execution_count": 31,
            "metadata": {},
            "outputs": [],
            "source": [
                "df_level = df_time_day.withColumn('LEVEL_MW', dbmToMw(F.col('LEVEL')))"
            ]
        },
        {
            "cell_type": "code",
            "execution_count": 32,
            "metadata": {},
            "outputs": [],
            "source": [
                "df_label = (\n",
                "    df_level\n",
                "        .withColumn('ENV_LABEL', \n",
                "            F.when(F.col('ENV_LABEL').isin(['METRO', 'INDOOR', 'i']), 'i')\n",
                "            .otherwise('o')\n",
                "        )\n",
                "    )"
            ]
        },
        {
            "cell_type": "code",
            "execution_count": 33,
            "metadata": {},
            "outputs": [
                {
                    "output_type": "stream",
                    "name": "stdout",
                    "text": [
                        "+---------+--------------+------+\n|ENV_LABEL|         TABLE| count|\n+---------+--------------+------+\n|        o|df_man_labeled|  4330|\n|        i|df_man_labeled|  4389|\n|        i|df_geo_labeled| 10077|\n|        o|df_geo_labeled| 10679|\n|        o|df_env_outdoor|257617|\n|        i| df_env_indoor|258209|\n+---------+--------------+------+\n\n"
                    ]
                }
            ],
            "source": [
                "df_label.groupBy(['ENV_LABEL', 'TABLE']).count().orderBy('count').show()\n"
            ]
        },
        {
            "cell_type": "code",
            "execution_count": 34,
            "metadata": {},
            "outputs": [
                {
                    "output_type": "stream",
                    "name": "stdout",
                    "text": [
                        "+---------+------+\n|ENV_LABEL| count|\n+---------+------+\n|        o|272626|\n|        i|272675|\n+---------+------+\n\n"
                    ]
                }
            ],
            "source": [
                "df_label.groupBy('ENV_LABEL').count().orderBy('count').show()"
            ]
        },
        {
            "cell_type": "code",
            "execution_count": 35,
            "metadata": {},
            "outputs": [],
            "source": [
                "df_drop = df_label.drop('STIME', 'TABLE', 'STIME_SEC', 'WEEKDAY', 'HOUR')"
            ]
        },
        {
            "cell_type": "code",
            "execution_count": 36,
            "metadata": {},
            "outputs": [],
            "source": [
                "df_select = df_drop.select(sorted(df_drop.columns))"
            ]
        },
        {
            "cell_type": "code",
            "execution_count": 37,
            "metadata": {},
            "outputs": [
                {
                    "output_type": "stream",
                    "name": "stdout",
                    "text": [
                        "+--------+---------------+--------------+-----------+--------+---------+---------+------------+---------+---------+-------------+----------+----------+-----+--------+------+--------+--------+--------+---------+------+------+-----+-----+--------+-----+-------+--------------+\n|ACCURACY|ACTIVITY_CONFID|ACTIVITY_STATE|BATT_CHARGE|DISTANCE|ENV_LABEL|GPS_DELAY|LAG_ACTIVITY|LAG_LTIME|LAG_SPEED|LEAD_ACTIVITY|LEAD_LTIME|LEAD_SPEED|LEVEL|LEVEL_MW| LIGHT|MAGNET_X|MAGNET_Y|MAGNET_Z|PROXIMITY|  QUAL|SOURCE|SPEED|STYPE|TIME_DAY| TYPE|WEEKEND|WIFI_CONNECTED|\n+--------+---------------+--------------+-----------+--------+---------+---------+------------+---------+---------+-------------+----------+----------+-----+--------+------+--------+--------+--------+---------+------+------+-----+-----+--------+-----+-------+--------------+\n|      19|              0|             0|        253|  217646|        0|        0|       35280|   217646|   217646|        35395|    218406|    218406|65518|   65518|332149|  368160|  368160|  368160|   351789|225764|     0|    0|    0|       0|48752|      0|             0|\n+--------+---------------+--------------+-----------+--------+---------+---------+------------+---------+---------+-------------+----------+----------+-----+--------+------+--------+--------+--------+---------+------+------+-----+-----+--------+-----+-------+--------------+\n\n"
                    ]
                }
            ],
            "source": [
                "df_select.select([F.count(F.when(F.isnull(c), c)).alias(c) for c in df_select.columns]).show()"
            ]
        },
        {
            "cell_type": "code",
            "execution_count": 25,
            "metadata": {},
            "outputs": [],
            "source": [
                "container_name = 'data'\n",
                "path_to_table = '/training/'\n",
                "\n",
                "def writeDataframeToAdls(dataframe, container_name, path_to_table, table_name, mode='overwrite'):\n",
                "    (dataframe\n",
                "        .write\n",
                "        .mode(mode)\n",
                "        .format(\"table_name\")\n",
                "        .parquet(f\"abfss://{container_name}@REDACTED.dfs.core.windows.net{path_to_table}{table_name}\")\n",
                "    )"
            ]
        },
        {
            "cell_type": "code",
            "execution_count": 26,
            "metadata": {},
            "outputs": [],
            "source": [
                "writeDataframeToAdls(df_select, container_name, path_to_table, \"df_training\")"
            ]
        }
    ],
    "metadata": {
        "kernelspec": {
            "name": "python385jvsc74a57bd0f84e33ce34231afd734e2a37eda8a43c0781e38ab9531d970a673cdcbf7f5015",
            "display_name": "Python 3.8.5 64-bit ('pyspark': conda)"
        },
        "language_info": {
            "codemirror_mode": {
                "name": "ipython",
                "version": 3
            },
            "file_extension": ".py",
            "mimetype": "text/x-python",
            "name": "python",
            "nbconvert_exporter": "python",
            "pygments_lexer": "ipython3",
            "version": "3.8.5-final"
        }
    },
    "nbformat": 4,
    "nbformat_minor": 4
}